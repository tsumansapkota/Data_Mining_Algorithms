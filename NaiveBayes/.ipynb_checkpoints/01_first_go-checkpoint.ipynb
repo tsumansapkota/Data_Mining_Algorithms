{
 "cells": [
  {
   "cell_type": "code",
   "execution_count": 1,
   "metadata": {},
   "outputs": [],
   "source": [
    "import numpy as np\n",
    "import matplotlib.pyplot as plt\n",
    "import matplotlib\n",
    "import pandas as pd\n",
    "%matplotlib inline"
   ]
  },
  {
   "cell_type": "code",
   "execution_count": 2,
   "metadata": {},
   "outputs": [],
   "source": [
    "def is_feature_continuous(df):\n",
    "    if type(df) is not pd.core.frame.DataFrame:\n",
    "        df = pd.DataFrame(df)\n",
    "    feature_types = []\n",
    "    n_unique_values_threshold = 10\n",
    "    \n",
    "    for column in df.columns:\n",
    "        unique_values = df[column].unique()\n",
    "        example_value = unique_values[0]\n",
    "        \n",
    "        if (isinstance(example_value, str)) or (len(unique_values) <= n_unique_values_threshold):\n",
    "            feature_types.append(False)\n",
    "        else:\n",
    "            feature_types.append(True)\n",
    "    \n",
    "    return feature_types"
   ]
  },
  {
   "cell_type": "code",
   "execution_count": 3,
   "metadata": {},
   "outputs": [],
   "source": [
    "df = pd.read_csv(\"./titanic.csv\")\n",
    "df['label'] = df.Survived\n",
    "df = df.drop([\"PassengerId\",'Survived','Name', 'Ticket', 'Cabin'], axis=1)\n",
    "\n",
    "#handling missing balues\n",
    "median_age = df.Age.median()\n",
    "mode_embarked = df.Embarked.mode()[0]\n",
    "\n",
    "df = df.fillna({'Age': median_age, 'Embarked':mode_embarked})"
   ]
  },
  {
   "cell_type": "code",
   "execution_count": 4,
   "metadata": {},
   "outputs": [
    {
     "name": "stdout",
     "output_type": "stream",
     "text": [
      "<class 'pandas.core.frame.DataFrame'>\n",
      "RangeIndex: 891 entries, 0 to 890\n",
      "Data columns (total 8 columns):\n",
      "Pclass      891 non-null int64\n",
      "Sex         891 non-null object\n",
      "Age         891 non-null float64\n",
      "SibSp       891 non-null int64\n",
      "Parch       891 non-null int64\n",
      "Fare        891 non-null float64\n",
      "Embarked    891 non-null object\n",
      "label       891 non-null int64\n",
      "dtypes: float64(2), int64(4), object(2)\n",
      "memory usage: 55.8+ KB\n"
     ]
    }
   ],
   "source": [
    "df.info()"
   ]
  },
  {
   "cell_type": "code",
   "execution_count": 5,
   "metadata": {},
   "outputs": [
    {
     "data": {
      "text/html": [
       "<div>\n",
       "<style scoped>\n",
       "    .dataframe tbody tr th:only-of-type {\n",
       "        vertical-align: middle;\n",
       "    }\n",
       "\n",
       "    .dataframe tbody tr th {\n",
       "        vertical-align: top;\n",
       "    }\n",
       "\n",
       "    .dataframe thead th {\n",
       "        text-align: right;\n",
       "    }\n",
       "</style>\n",
       "<table border=\"1\" class=\"dataframe\">\n",
       "  <thead>\n",
       "    <tr style=\"text-align: right;\">\n",
       "      <th></th>\n",
       "      <th>Pclass</th>\n",
       "      <th>Sex</th>\n",
       "      <th>Age</th>\n",
       "      <th>SibSp</th>\n",
       "      <th>Parch</th>\n",
       "      <th>Fare</th>\n",
       "      <th>Embarked</th>\n",
       "      <th>label</th>\n",
       "    </tr>\n",
       "  </thead>\n",
       "  <tbody>\n",
       "    <tr>\n",
       "      <th>0</th>\n",
       "      <td>3</td>\n",
       "      <td>male</td>\n",
       "      <td>22.0</td>\n",
       "      <td>1</td>\n",
       "      <td>0</td>\n",
       "      <td>7.2500</td>\n",
       "      <td>S</td>\n",
       "      <td>0</td>\n",
       "    </tr>\n",
       "    <tr>\n",
       "      <th>1</th>\n",
       "      <td>1</td>\n",
       "      <td>female</td>\n",
       "      <td>38.0</td>\n",
       "      <td>1</td>\n",
       "      <td>0</td>\n",
       "      <td>71.2833</td>\n",
       "      <td>C</td>\n",
       "      <td>1</td>\n",
       "    </tr>\n",
       "    <tr>\n",
       "      <th>2</th>\n",
       "      <td>3</td>\n",
       "      <td>female</td>\n",
       "      <td>26.0</td>\n",
       "      <td>0</td>\n",
       "      <td>0</td>\n",
       "      <td>7.9250</td>\n",
       "      <td>S</td>\n",
       "      <td>1</td>\n",
       "    </tr>\n",
       "    <tr>\n",
       "      <th>3</th>\n",
       "      <td>1</td>\n",
       "      <td>female</td>\n",
       "      <td>35.0</td>\n",
       "      <td>1</td>\n",
       "      <td>0</td>\n",
       "      <td>53.1000</td>\n",
       "      <td>S</td>\n",
       "      <td>1</td>\n",
       "    </tr>\n",
       "    <tr>\n",
       "      <th>4</th>\n",
       "      <td>3</td>\n",
       "      <td>male</td>\n",
       "      <td>35.0</td>\n",
       "      <td>0</td>\n",
       "      <td>0</td>\n",
       "      <td>8.0500</td>\n",
       "      <td>S</td>\n",
       "      <td>0</td>\n",
       "    </tr>\n",
       "  </tbody>\n",
       "</table>\n",
       "</div>"
      ],
      "text/plain": [
       "   Pclass     Sex   Age  SibSp  Parch     Fare Embarked  label\n",
       "0       3    male  22.0      1      0   7.2500        S      0\n",
       "1       1  female  38.0      1      0  71.2833        C      1\n",
       "2       3  female  26.0      0      0   7.9250        S      1\n",
       "3       1  female  35.0      1      0  53.1000        S      1\n",
       "4       3    male  35.0      0      0   8.0500        S      0"
      ]
     },
     "execution_count": 5,
     "metadata": {},
     "output_type": "execute_result"
    }
   ],
   "source": [
    "df.head()"
   ]
  },
  {
   "cell_type": "code",
   "execution_count": 6,
   "metadata": {},
   "outputs": [
    {
     "data": {
      "text/plain": [
       "pandas.core.frame.DataFrame"
      ]
     },
     "execution_count": 6,
     "metadata": {},
     "output_type": "execute_result"
    }
   ],
   "source": [
    "type(df)"
   ]
  },
  {
   "cell_type": "code",
   "execution_count": 7,
   "metadata": {},
   "outputs": [
    {
     "data": {
      "text/plain": [
       "array([[3, 'male', 22.0, ..., 7.25, 'S', 0],\n",
       "       [1, 'female', 38.0, ..., 71.2833, 'C', 1],\n",
       "       [3, 'female', 26.0, ..., 7.925, 'S', 1],\n",
       "       ...,\n",
       "       [3, 'female', 28.0, ..., 23.45, 'S', 0],\n",
       "       [1, 'male', 26.0, ..., 30.0, 'C', 1],\n",
       "       [3, 'male', 32.0, ..., 7.75, 'Q', 0]], dtype=object)"
      ]
     },
     "execution_count": 7,
     "metadata": {},
     "output_type": "execute_result"
    }
   ],
   "source": [
    "df.values"
   ]
  },
  {
   "cell_type": "code",
   "execution_count": 8,
   "metadata": {},
   "outputs": [
    {
     "data": {
      "text/plain": [
       "[False, False, True, False, False, True, False, False]"
      ]
     },
     "execution_count": 8,
     "metadata": {},
     "output_type": "execute_result"
    }
   ],
   "source": [
    "continuous = is_feature_continuous(df)\n",
    "continuous"
   ]
  },
  {
   "cell_type": "code",
   "execution_count": 9,
   "metadata": {},
   "outputs": [
    {
     "data": {
      "text/plain": [
       "Index(['Pclass', 'Sex', 'Age', 'SibSp', 'Parch', 'Fare', 'Embarked', 'label'], dtype='object')"
      ]
     },
     "execution_count": 9,
     "metadata": {},
     "output_type": "execute_result"
    }
   ],
   "source": [
    "df.columns"
   ]
  },
  {
   "cell_type": "code",
   "execution_count": 10,
   "metadata": {},
   "outputs": [
    {
     "data": {
      "text/plain": [
       "array([3, 1, 3, 1, 3, 3, 1, 3, 3, 2, 3, 1, 3, 3, 3, 2, 3, 2, 3, 3, 2, 2,\n",
       "       3, 1, 3, 3, 3, 1, 3, 3, 1, 1, 3, 2, 1, 1, 3, 3, 3, 3, 3, 2, 3, 2,\n",
       "       3, 3, 3, 3, 3, 3, 3, 3, 1, 2, 1, 1, 2, 3, 2, 3, 3, 1, 1, 3, 1, 3,\n",
       "       2, 3, 3, 3, 2, 3, 2, 3, 3, 3, 3, 3, 2, 3, 3, 3, 3, 1, 2, 3, 3, 3,\n",
       "       1, 3, 3, 3, 1, 3, 3, 3, 1, 1, 2, 2, 3, 3, 1, 3, 3, 3, 3, 3, 3, 3,\n",
       "       1, 3, 3, 3, 3, 3, 3, 2, 1, 3, 2, 3, 2, 2, 1, 3, 3, 3, 3, 3, 3, 3,\n",
       "       3, 2, 2, 2, 1, 1, 3, 1, 3, 3, 3, 3, 2, 2, 3, 3, 2, 2, 2, 1, 3, 3,\n",
       "       3, 1, 3, 3, 3, 3, 3, 2, 3, 3, 3, 3, 1, 3, 1, 3, 1, 3, 3, 3, 1, 3,\n",
       "       3, 1, 2, 3, 3, 2, 3, 2, 3, 1, 3, 1, 3, 3, 2, 2, 3, 2, 1, 1, 3, 3,\n",
       "       3, 2, 3, 3, 3, 3, 3, 3, 3, 3, 3, 1, 3, 2, 3, 2, 3, 1, 3, 2, 1, 2,\n",
       "       3, 2, 3, 3, 1, 3, 2, 3, 2, 3, 1, 3, 2, 3, 2, 3, 2, 2, 2, 2, 3, 3,\n",
       "       2, 3, 3, 1, 3, 2, 1, 2, 3, 3, 1, 3, 3, 3, 1, 1, 1, 2, 3, 3, 1, 1,\n",
       "       3, 2, 3, 3, 1, 1, 1, 3, 2, 1, 3, 1, 3, 2, 3, 3, 3, 3, 3, 3, 1, 3,\n",
       "       3, 3, 2, 3, 1, 1, 2, 3, 3, 1, 3, 1, 1, 1, 3, 3, 3, 2, 3, 1, 1, 1,\n",
       "       2, 1, 1, 1, 2, 3, 2, 3, 2, 2, 1, 1, 3, 3, 2, 2, 3, 1, 3, 2, 3, 1,\n",
       "       3, 1, 1, 3, 1, 3, 1, 1, 3, 1, 2, 1, 2, 2, 2, 2, 2, 3, 3, 3, 3, 1,\n",
       "       3, 3, 3, 3, 1, 2, 3, 3, 3, 2, 3, 3, 3, 3, 1, 3, 3, 1, 1, 3, 3, 1,\n",
       "       3, 1, 3, 1, 3, 3, 1, 3, 3, 1, 3, 2, 3, 2, 3, 2, 1, 3, 3, 1, 3, 3,\n",
       "       3, 2, 2, 2, 3, 3, 3, 3, 3, 2, 3, 2, 3, 3, 3, 3, 1, 2, 3, 3, 2, 2,\n",
       "       2, 3, 3, 3, 3, 3, 3, 3, 2, 2, 3, 3, 1, 3, 2, 3, 1, 1, 3, 2, 1, 2,\n",
       "       2, 3, 3, 2, 3, 1, 2, 1, 3, 1, 2, 3, 1, 1, 3, 3, 1, 1, 2, 3, 1, 3,\n",
       "       1, 2, 3, 3, 2, 1, 3, 3, 3, 3, 2, 2, 3, 1, 2, 3, 3, 3, 3, 2, 3, 3,\n",
       "       1, 3, 1, 1, 3, 3, 3, 3, 1, 1, 3, 3, 1, 3, 1, 3, 3, 3, 3, 3, 1, 1,\n",
       "       2, 1, 3, 3, 3, 3, 1, 1, 3, 1, 2, 3, 2, 3, 1, 3, 3, 1, 3, 3, 2, 1,\n",
       "       3, 2, 2, 3, 3, 3, 3, 2, 1, 1, 3, 1, 1, 3, 3, 2, 1, 1, 2, 2, 3, 2,\n",
       "       1, 2, 3, 3, 3, 1, 1, 1, 1, 3, 3, 3, 2, 3, 3, 3, 3, 3, 3, 3, 2, 1,\n",
       "       1, 3, 3, 3, 2, 1, 3, 3, 2, 1, 2, 1, 3, 1, 2, 1, 3, 3, 3, 1, 3, 3,\n",
       "       2, 3, 2, 3, 3, 1, 2, 3, 1, 3, 1, 3, 3, 1, 2, 1, 3, 3, 3, 3, 3, 2,\n",
       "       3, 3, 2, 2, 3, 1, 3, 3, 3, 1, 2, 1, 3, 3, 1, 3, 1, 1, 3, 2, 3, 2,\n",
       "       3, 3, 3, 1, 3, 3, 3, 1, 3, 1, 3, 3, 3, 2, 3, 3, 3, 2, 3, 3, 2, 1,\n",
       "       1, 3, 1, 3, 3, 2, 2, 3, 3, 1, 2, 1, 2, 2, 2, 3, 3, 3, 3, 1, 3, 1,\n",
       "       3, 3, 2, 2, 3, 3, 3, 1, 1, 3, 3, 3, 1, 2, 3, 3, 1, 3, 1, 1, 3, 3,\n",
       "       3, 2, 2, 1, 1, 3, 1, 1, 1, 3, 2, 3, 1, 2, 3, 3, 2, 3, 2, 2, 1, 3,\n",
       "       2, 3, 2, 3, 1, 3, 2, 2, 2, 3, 3, 1, 3, 3, 1, 1, 1, 3, 3, 1, 3, 2,\n",
       "       1, 3, 2, 3, 3, 3, 2, 2, 3, 2, 3, 1, 3, 3, 3, 1, 3, 1, 1, 3, 3, 3,\n",
       "       3, 3, 2, 3, 2, 3, 3, 3, 3, 1, 3, 1, 1, 3, 3, 3, 3, 3, 3, 1, 3, 2,\n",
       "       3, 1, 3, 2, 1, 3, 3, 3, 2, 2, 1, 3, 3, 3, 1, 3, 2, 1, 3, 3, 2, 3,\n",
       "       3, 1, 3, 2, 3, 3, 1, 3, 1, 3, 3, 3, 3, 2, 3, 1, 3, 2, 3, 3, 3, 1,\n",
       "       3, 3, 3, 1, 3, 2, 1, 3, 3, 3, 3, 3, 2, 1, 3, 3, 3, 1, 2, 3, 1, 1,\n",
       "       3, 3, 3, 2, 1, 3, 2, 2, 2, 1, 3, 3, 3, 1, 1, 3, 2, 3, 3, 3, 3, 1,\n",
       "       2, 3, 3, 2, 3, 3, 2, 1, 3, 1, 3])"
      ]
     },
     "execution_count": 10,
     "metadata": {},
     "output_type": "execute_result"
    }
   ],
   "source": [
    "df.Pclass.values"
   ]
  },
  {
   "cell_type": "code",
   "execution_count": 11,
   "metadata": {},
   "outputs": [],
   "source": [
    "def multinoulli_distribution(feature):\n",
    "    values, counts = np.unique(feature, return_counts=True)\n",
    "    freq = counts/counts.sum()\n",
    "    return values, freq"
   ]
  },
  {
   "cell_type": "code",
   "execution_count": 12,
   "metadata": {},
   "outputs": [],
   "source": [
    "vals, probs = multinoulli_distribution(df.Pclass.values)"
   ]
  },
  {
   "cell_type": "code",
   "execution_count": 13,
   "metadata": {},
   "outputs": [
    {
     "data": {
      "text/plain": [
       "<BarContainer object of 3 artists>"
      ]
     },
     "execution_count": 13,
     "metadata": {},
     "output_type": "execute_result"
    },
    {
     "data": {
      "image/png": "[encoded data removed]",
      "text/plain": [
       "<Figure size 432x288 with 1 Axes>"
      ]
     },
     "metadata": {},
     "output_type": "display_data"
    }
   ],
   "source": [
    "plt.bar(vals, probs)"
   ]
  },
  {
   "cell_type": "code",
   "execution_count": null,
   "metadata": {},
   "outputs": [],
   "source": []
  },
  {
   "cell_type": "code",
   "execution_count": null,
   "metadata": {},
   "outputs": [],
   "source": []
  },
  {
   "cell_type": "code",
   "execution_count": null,
   "metadata": {},
   "outputs": [],
   "source": []
  },
  {
   "cell_type": "code",
   "execution_count": 14,
   "metadata": {},
   "outputs": [
    {
     "data": {
      "text/plain": [
       "array([22.  , 38.  , 26.  , 35.  , 35.  , 28.  , 54.  ,  2.  , 27.  ,\n",
       "       14.  ,  4.  , 58.  , 20.  , 39.  , 14.  , 55.  ,  2.  , 28.  ,\n",
       "       31.  , 28.  , 35.  , 34.  , 15.  , 28.  ,  8.  , 38.  , 28.  ,\n",
       "       19.  , 28.  , 28.  , 40.  , 28.  , 28.  , 66.  , 28.  , 42.  ,\n",
       "       28.  , 21.  , 18.  , 14.  , 40.  , 27.  , 28.  ,  3.  , 19.  ,\n",
       "       28.  , 28.  , 28.  , 28.  , 18.  ,  7.  , 21.  , 49.  , 29.  ,\n",
       "       65.  , 28.  , 21.  , 28.5 ,  5.  , 11.  , 22.  , 38.  , 45.  ,\n",
       "        4.  , 28.  , 28.  , 29.  , 19.  , 17.  , 26.  , 32.  , 16.  ,\n",
       "       21.  , 26.  , 32.  , 25.  , 28.  , 28.  ,  0.83, 30.  , 22.  ,\n",
       "       29.  , 28.  , 28.  , 17.  , 33.  , 16.  , 28.  , 23.  , 24.  ,\n",
       "       29.  , 20.  , 46.  , 26.  , 59.  , 28.  , 71.  , 23.  , 34.  ,\n",
       "       34.  , 28.  , 28.  , 21.  , 33.  , 37.  , 28.  , 21.  , 28.  ,\n",
       "       38.  , 28.  , 47.  , 14.5 , 22.  , 20.  , 17.  , 21.  , 70.5 ,\n",
       "       29.  , 24.  ,  2.  , 21.  , 28.  , 32.5 , 32.5 , 54.  , 12.  ,\n",
       "       28.  , 24.  , 28.  , 45.  , 33.  , 20.  , 47.  , 29.  , 25.  ,\n",
       "       23.  , 19.  , 37.  , 16.  , 24.  , 28.  , 22.  , 24.  , 19.  ,\n",
       "       18.  , 19.  , 27.  ,  9.  , 36.5 , 42.  , 51.  , 22.  , 55.5 ,\n",
       "       40.5 , 28.  , 51.  , 16.  , 30.  , 28.  , 28.  , 44.  , 40.  ,\n",
       "       26.  , 17.  ,  1.  ,  9.  , 28.  , 45.  , 28.  , 28.  , 61.  ,\n",
       "        4.  ,  1.  , 21.  , 56.  , 18.  , 28.  , 50.  , 30.  , 36.  ,\n",
       "       28.  , 28.  ,  9.  ,  1.  ,  4.  , 28.  , 28.  , 45.  , 40.  ,\n",
       "       36.  , 32.  , 19.  , 19.  ,  3.  , 44.  , 58.  , 28.  , 42.  ,\n",
       "       28.  , 24.  , 28.  , 28.  , 34.  , 45.5 , 18.  ,  2.  , 32.  ,\n",
       "       26.  , 16.  , 40.  , 24.  , 35.  , 22.  , 30.  , 28.  , 31.  ,\n",
       "       27.  , 42.  , 32.  , 30.  , 16.  , 27.  , 51.  , 28.  , 38.  ,\n",
       "       22.  , 19.  , 20.5 , 18.  , 28.  , 35.  , 29.  , 59.  ,  5.  ,\n",
       "       24.  , 28.  , 44.  ,  8.  , 19.  , 33.  , 28.  , 28.  , 29.  ,\n",
       "       22.  , 30.  , 44.  , 25.  , 24.  , 37.  , 54.  , 28.  , 29.  ,\n",
       "       62.  , 30.  , 41.  , 29.  , 28.  , 30.  , 35.  , 50.  , 28.  ,\n",
       "        3.  , 52.  , 40.  , 28.  , 36.  , 16.  , 25.  , 58.  , 35.  ,\n",
       "       28.  , 25.  , 41.  , 37.  , 28.  , 63.  , 45.  , 28.  ,  7.  ,\n",
       "       35.  , 65.  , 28.  , 16.  , 19.  , 28.  , 33.  , 30.  , 22.  ,\n",
       "       42.  , 22.  , 26.  , 19.  , 36.  , 24.  , 24.  , 28.  , 23.5 ,\n",
       "        2.  , 28.  , 50.  , 28.  , 28.  , 19.  , 28.  , 28.  ,  0.92,\n",
       "       28.  , 17.  , 30.  , 30.  , 24.  , 18.  , 26.  , 28.  , 43.  ,\n",
       "       26.  , 24.  , 54.  , 31.  , 40.  , 22.  , 27.  , 30.  , 22.  ,\n",
       "       28.  , 36.  , 61.  , 36.  , 31.  , 16.  , 28.  , 45.5 , 38.  ,\n",
       "       16.  , 28.  , 28.  , 29.  , 41.  , 45.  , 45.  ,  2.  , 24.  ,\n",
       "       28.  , 25.  , 36.  , 24.  , 40.  , 28.  ,  3.  , 42.  , 23.  ,\n",
       "       28.  , 15.  , 25.  , 28.  , 28.  , 22.  , 38.  , 28.  , 28.  ,\n",
       "       40.  , 29.  , 45.  , 35.  , 28.  , 30.  , 60.  , 28.  , 28.  ,\n",
       "       24.  , 25.  , 18.  , 19.  , 22.  ,  3.  , 28.  , 22.  , 27.  ,\n",
       "       20.  , 19.  , 42.  ,  1.  , 32.  , 35.  , 28.  , 18.  ,  1.  ,\n",
       "       36.  , 28.  , 17.  , 36.  , 21.  , 28.  , 23.  , 24.  , 22.  ,\n",
       "       31.  , 46.  , 23.  , 28.  , 39.  , 26.  , 21.  , 28.  , 20.  ,\n",
       "       34.  , 51.  ,  3.  , 21.  , 28.  , 28.  , 28.  , 33.  , 28.  ,\n",
       "       44.  , 28.  , 34.  , 18.  , 30.  , 10.  , 28.  , 21.  , 29.  ,\n",
       "       28.  , 18.  , 28.  , 28.  , 19.  , 28.  , 32.  , 28.  , 28.  ,\n",
       "       42.  , 17.  , 50.  , 14.  , 21.  , 24.  , 64.  , 31.  , 45.  ,\n",
       "       20.  , 25.  , 28.  , 28.  ,  4.  , 13.  , 34.  ,  5.  , 52.  ,\n",
       "       36.  , 28.  , 30.  , 49.  , 28.  , 29.  , 65.  , 28.  , 50.  ,\n",
       "       28.  , 48.  , 34.  , 47.  , 48.  , 28.  , 38.  , 28.  , 56.  ,\n",
       "       28.  ,  0.75, 28.  , 38.  , 33.  , 23.  , 22.  , 28.  , 34.  ,\n",
       "       29.  , 22.  ,  2.  ,  9.  , 28.  , 50.  , 63.  , 25.  , 28.  ,\n",
       "       35.  , 58.  , 30.  ,  9.  , 28.  , 21.  , 55.  , 71.  , 21.  ,\n",
       "       28.  , 54.  , 28.  , 25.  , 24.  , 17.  , 21.  , 28.  , 37.  ,\n",
       "       16.  , 18.  , 33.  , 28.  , 28.  , 26.  , 29.  , 28.  , 36.  ,\n",
       "       54.  , 24.  , 47.  , 34.  , 28.  , 36.  , 32.  , 30.  , 22.  ,\n",
       "       28.  , 44.  , 28.  , 40.5 , 50.  , 28.  , 39.  , 23.  ,  2.  ,\n",
       "       28.  , 17.  , 28.  , 30.  ,  7.  , 45.  , 30.  , 28.  , 22.  ,\n",
       "       36.  ,  9.  , 11.  , 32.  , 50.  , 64.  , 19.  , 28.  , 33.  ,\n",
       "        8.  , 17.  , 27.  , 28.  , 22.  , 22.  , 62.  , 48.  , 28.  ,\n",
       "       39.  , 36.  , 28.  , 40.  , 28.  , 28.  , 28.  , 24.  , 19.  ,\n",
       "       29.  , 28.  , 32.  , 62.  , 53.  , 36.  , 28.  , 16.  , 19.  ,\n",
       "       34.  , 39.  , 28.  , 32.  , 25.  , 39.  , 54.  , 36.  , 28.  ,\n",
       "       18.  , 47.  , 60.  , 22.  , 28.  , 35.  , 52.  , 47.  , 28.  ,\n",
       "       37.  , 36.  , 28.  , 49.  , 28.  , 49.  , 24.  , 28.  , 28.  ,\n",
       "       44.  , 35.  , 36.  , 30.  , 27.  , 22.  , 40.  , 39.  , 28.  ,\n",
       "       28.  , 28.  , 35.  , 24.  , 34.  , 26.  ,  4.  , 26.  , 27.  ,\n",
       "       42.  , 20.  , 21.  , 21.  , 61.  , 57.  , 21.  , 26.  , 28.  ,\n",
       "       80.  , 51.  , 32.  , 28.  ,  9.  , 28.  , 32.  , 31.  , 41.  ,\n",
       "       28.  , 20.  , 24.  ,  2.  , 28.  ,  0.75, 48.  , 19.  , 56.  ,\n",
       "       28.  , 23.  , 28.  , 18.  , 21.  , 28.  , 18.  , 24.  , 28.  ,\n",
       "       32.  , 23.  , 58.  , 50.  , 40.  , 47.  , 36.  , 20.  , 32.  ,\n",
       "       25.  , 28.  , 43.  , 28.  , 40.  , 31.  , 70.  , 31.  , 28.  ,\n",
       "       18.  , 24.5 , 18.  , 43.  , 36.  , 28.  , 27.  , 20.  , 14.  ,\n",
       "       60.  , 25.  , 14.  , 19.  , 18.  , 15.  , 31.  ,  4.  , 28.  ,\n",
       "       25.  , 60.  , 52.  , 44.  , 28.  , 49.  , 42.  , 18.  , 35.  ,\n",
       "       18.  , 25.  , 26.  , 39.  , 45.  , 42.  , 22.  , 28.  , 24.  ,\n",
       "       28.  , 48.  , 29.  , 52.  , 19.  , 38.  , 27.  , 28.  , 33.  ,\n",
       "        6.  , 17.  , 34.  , 50.  , 27.  , 20.  , 30.  , 28.  , 25.  ,\n",
       "       25.  , 29.  , 11.  , 28.  , 23.  , 23.  , 28.5 , 48.  , 35.  ,\n",
       "       28.  , 28.  , 28.  , 36.  , 21.  , 24.  , 31.  , 70.  , 16.  ,\n",
       "       30.  , 19.  , 31.  ,  4.  ,  6.  , 33.  , 23.  , 48.  ,  0.67,\n",
       "       28.  , 18.  , 34.  , 33.  , 28.  , 41.  , 20.  , 36.  , 16.  ,\n",
       "       51.  , 28.  , 30.5 , 28.  , 32.  , 24.  , 48.  , 57.  , 28.  ,\n",
       "       54.  , 18.  , 28.  ,  5.  , 28.  , 43.  , 13.  , 17.  , 29.  ,\n",
       "       28.  , 25.  , 25.  , 18.  ,  8.  ,  1.  , 46.  , 28.  , 16.  ,\n",
       "       28.  , 28.  , 25.  , 39.  , 49.  , 31.  , 30.  , 30.  , 34.  ,\n",
       "       31.  , 11.  ,  0.42, 27.  , 31.  , 39.  , 18.  , 39.  , 33.  ,\n",
       "       26.  , 39.  , 35.  ,  6.  , 30.5 , 28.  , 23.  , 31.  , 43.  ,\n",
       "       10.  , 52.  , 27.  , 38.  , 27.  ,  2.  , 28.  , 28.  ,  1.  ,\n",
       "       28.  , 62.  , 15.  ,  0.83, 28.  , 23.  , 18.  , 39.  , 21.  ,\n",
       "       28.  , 32.  , 28.  , 20.  , 16.  , 30.  , 34.5 , 17.  , 42.  ,\n",
       "       28.  , 35.  , 28.  , 28.  ,  4.  , 74.  ,  9.  , 16.  , 44.  ,\n",
       "       18.  , 45.  , 51.  , 24.  , 28.  , 41.  , 21.  , 48.  , 28.  ,\n",
       "       24.  , 42.  , 27.  , 31.  , 28.  ,  4.  , 26.  , 47.  , 33.  ,\n",
       "       47.  , 28.  , 15.  , 20.  , 19.  , 28.  , 56.  , 25.  , 33.  ,\n",
       "       22.  , 28.  , 25.  , 39.  , 27.  , 19.  , 28.  , 26.  , 32.  ])"
      ]
     },
     "execution_count": 14,
     "metadata": {},
     "output_type": "execute_result"
    }
   ],
   "source": [
    "df.Age.values"
   ]
  },
  {
   "cell_type": "code",
   "execution_count": 15,
   "metadata": {},
   "outputs": [
    {
     "data": {
      "text/plain": [
       "29.36158249158249"
      ]
     },
     "execution_count": 15,
     "metadata": {},
     "output_type": "execute_result"
    }
   ],
   "source": [
    "df.Age.mean()"
   ]
  },
  {
   "cell_type": "code",
   "execution_count": 16,
   "metadata": {},
   "outputs": [
    {
     "data": {
      "text/plain": [
       "169.51249827942328"
      ]
     },
     "execution_count": 16,
     "metadata": {},
     "output_type": "execute_result"
    }
   ],
   "source": [
    "df.Age.var()"
   ]
  },
  {
   "cell_type": "code",
   "execution_count": 17,
   "metadata": {},
   "outputs": [
    {
     "data": {
      "text/plain": [
       "<matplotlib.collections.PathCollection at 0x7fe9827d2ba8>"
      ]
     },
     "execution_count": 17,
     "metadata": {},
     "output_type": "execute_result"
    },
    {
     "data": {
      "image/png": "[encoded data removed]",
      "text/plain": [
       "<Figure size 432x288 with 1 Axes>"
      ]
     },
     "metadata": {},
     "output_type": "display_data"
    }
   ],
   "source": [
    "plt.scatter(df.Age.values, 1/np.sqrt(2*np.pi*df.Age.var())*np.e**-((df.Age.values - df.Age.mean())**2/(2*df.Age.var())))"
   ]
  },
  {
   "cell_type": "code",
   "execution_count": 18,
   "metadata": {},
   "outputs": [],
   "source": [
    "def mean_and_variance(feature):\n",
    "    return np.mean(feature), np.var(feature)\n",
    "\n",
    "def gaussian_distribution(feature, mean, var):\n",
    "    return 1/np.sqrt(2*np.pi*var)*np.e**-((feature - mean)**2/(2*var))"
   ]
  },
  {
   "cell_type": "code",
   "execution_count": 19,
   "metadata": {},
   "outputs": [],
   "source": [
    "mean, var = mean_and_variance(df.Age.values)"
   ]
  },
  {
   "cell_type": "code",
   "execution_count": 20,
   "metadata": {},
   "outputs": [
    {
     "data": {
      "text/plain": [
       "<matplotlib.collections.PathCollection at 0x7fe982737748>"
      ]
     },
     "execution_count": 20,
     "metadata": {},
     "output_type": "execute_result"
    },
    {
     "data": {
      "image/png": "[encoded data removed]",
      "text/plain": [
       "<Figure size 432x288 with 1 Axes>"
      ]
     },
     "metadata": {},
     "output_type": "display_data"
    }
   ],
   "source": [
    "prob = gaussian_distribution(df.Age.values, mean, var)\n",
    "plt.scatter(df.Age.values, prob)\n",
    "new_prob = gaussian_distribution(86, mean, var)\n",
    "plt.scatter(86, new_prob)"
   ]
  },
  {
   "cell_type": "code",
   "execution_count": null,
   "metadata": {},
   "outputs": [],
   "source": []
  },
  {
   "cell_type": "code",
   "execution_count": null,
   "metadata": {},
   "outputs": [],
   "source": []
  },
  {
   "cell_type": "code",
   "execution_count": 21,
   "metadata": {},
   "outputs": [
    {
     "data": {
      "text/plain": [
       "{'labels': array([0, 1]),\n",
       " 'mean': array([30.02823315, 28.29143275]),\n",
       " 'var': array([155.96504988, 188.90543099])}"
      ]
     },
     "execution_count": 21,
     "metadata": {},
     "output_type": "execute_result"
    }
   ],
   "source": [
    "def conditional_probab_gaussian(feature, label):\n",
    "    # p(feature|label) && label must be categorical\n",
    "#     print('continuous vals = ',feature_continuous)\n",
    "    unique_vals = np.unique(label)\n",
    "    splits = []\n",
    "#     temp = []\n",
    "    for unique in unique_vals:\n",
    "        feature_split = feature[label==unique]\n",
    "        splits.append(feature_split)\n",
    "#         temp.append(label[label==unique])\n",
    "#     print(splits)\n",
    "#     print(temp)\n",
    "    means = []\n",
    "    varns = []\n",
    "    for labdata in splits:\n",
    "        mean, var = mean_and_variance(labdata)\n",
    "        means.append(mean)\n",
    "        varns.append(var)\n",
    "        \n",
    "    return {'labels':unique_vals, 'mean':np.array(means), 'var':np.array(varns)}\n",
    "    \n",
    "conditional_probab_gaussian(df.Age.values, df.label.values)"
   ]
  },
  {
   "cell_type": "code",
   "execution_count": 22,
   "metadata": {},
   "outputs": [
    {
     "data": {
      "text/plain": [
       "{'labels': array([0, 1]), 'prob': array([[0.14571949, 0.17668488, 0.67759563],\n",
       "        [0.39766082, 0.25438596, 0.34795322]]), 'values': array([[1, 2, 3],\n",
       "        [1, 2, 3]])}"
      ]
     },
     "execution_count": 22,
     "metadata": {},
     "output_type": "execute_result"
    }
   ],
   "source": [
    "def conditional_probab_multinoulli(feature, label):\n",
    "    # p(feature|label) && label must be categorical\n",
    "    unique_vals = np.unique(label)\n",
    "    splits = []\n",
    "#     temp = []\n",
    "    for unique in unique_vals:\n",
    "        feature_split = feature[label==unique]\n",
    "        splits.append(feature_split)\n",
    "#         temp.append(label[label==unique])\n",
    "#     print(splits)\n",
    "#     print(temp)\n",
    "    values = []\n",
    "    counts = []\n",
    "    for labdata in splits:\n",
    "        vals, count = multinoulli_distribution(labdata)\n",
    "        values.append(vals)\n",
    "        counts.append(count)\n",
    "        \n",
    "    return {'labels':unique_vals, 'values':np.array(values), 'prob':np.array(counts)}\n",
    "    \n",
    "conditional_probab_multinoulli(df.Pclass.values, df.label.values)"
   ]
  },
  {
   "cell_type": "code",
   "execution_count": 23,
   "metadata": {},
   "outputs": [
    {
     "ename": "SyntaxError",
     "evalue": "invalid syntax (<ipython-input-23-25df5a5abf2e>, line 99)",
     "output_type": "error",
     "traceback": [
      "\u001b[0;36m  File \u001b[0;32m\"<ipython-input-23-25df5a5abf2e>\"\u001b[0;36m, line \u001b[0;32m99\u001b[0m\n\u001b[0;31m    def\u001b[0m\n\u001b[0m        ^\u001b[0m\n\u001b[0;31mSyntaxError\u001b[0m\u001b[0;31m:\u001b[0m invalid syntax\n"
     ]
    }
   ],
   "source": [
    "class continuous_feature(object):\n",
    "    def __init__(self, data):\n",
    "        self.data = data\n",
    "        self.label = None\n",
    "        self.unique_label = None\n",
    "        self.means_and_vars = None\n",
    "        self.conditional = None\n",
    "        \n",
    "        \n",
    "    def _mean_and_variance(feature):\n",
    "        return np.mean(feature), np.var(feature)\n",
    "\n",
    "    def _gaussian_distribution(feature, mean, var):\n",
    "        return 1/np.sqrt(2*np.pi*var)*np.e**-((feature - mean)**2/(2*var))\n",
    "\n",
    "    def set_label(self, label):\n",
    "        self.label = label\n",
    "\n",
    "    def process_probability(self):\n",
    "        unique_vals = np.unique(self.label)\n",
    "        splits = []\n",
    "        for unique in unique_vals:\n",
    "            feature_split = self.data[self.label==unique]\n",
    "            splits.append(feature_split)\n",
    "        means_and_vars = {}\n",
    "        for unique, labdata in zip(unique_vals, splits):\n",
    "            mean, var = _mean_and_variance(labdata)\n",
    "#             means.append(mean)\n",
    "#             varns.append(var)\n",
    "            means_and_vars[unique] = (mean, var)\n",
    "\n",
    "        self.means_and_vars = means_and_vars\n",
    "        \n",
    "    def get_conditional_probability(self, value):\n",
    "        probabs = {}\n",
    "        for unique, mean, var in zip(self.unique_vals, self.means, self.variances):\n",
    "            t = _gaussian_distribution(value, mean, var)\n",
    "            probabs[unique] = t\n",
    "        self.conditional = probabs\n",
    "        return self.conditional\n",
    "        \n",
    "class discrete_feature(object):\n",
    "    \n",
    "    def __init__(self, data):\n",
    "        self.data = data\n",
    "        self.label = None\n",
    "        self.conditional = None\n",
    "        self.unique_label = None\n",
    "        self.unique_datas = None\n",
    "        self.unique_probabs = None\n",
    "        \n",
    "    def set_label(self, label):\n",
    "        self.label = label    \n",
    "    \n",
    "    def _values_and_frequencies(feature):\n",
    "        values, counts = np.unique(feature, return_counts=True)\n",
    "        freq = counts/counts.sum()\n",
    "        return values, freq\n",
    "    \n",
    "    def _multinoulli_distribution(feature, udata, probabs):\n",
    "        np.unique()\n",
    "        allprobab = np.zeros(len(feature), len())\n",
    "        \n",
    "    \n",
    "    def process_probability(self):\n",
    "        unique_vals = np.unique(self.label)\n",
    "        splits = []\n",
    "        for unique in unique_vals:\n",
    "            feature_split = self.data[self.label==unique]\n",
    "            splits.append(feature_split)\n",
    "        values = []\n",
    "        probabs = []\n",
    "        for labdata in splits:\n",
    "            vals, prob = _values_and_frequencies(labdata)\n",
    "            values.append(vals)\n",
    "            probabs.append(prob)\n",
    "\n",
    "        self.unique_label = unique_vals\n",
    "        self.unique_datas = np.unique(np.array(values))\n",
    "        self.unique_probabs = np.array(probabs)\n",
    "        \n",
    "        \n",
    "    def get_conditional_probability(self, value):\n",
    "        probabs = {}\n",
    "        for unique, udata, probab in zip(self.unique_label, self.unique_datas, self.unique_probabs):\n",
    "            t = _multinoulli_distribution(value, self.unique_datas, probab)\n",
    "            probabs[unique] = t\n",
    "        self.conditional = probabs\n",
    "        return self.conditional\n",
    "        \n",
    "\n",
    "class NaiveBayesClassifier(object):\n",
    "    \n",
    "    def __init__(self):\n",
    "        self.features = []\n",
    "        self.features_cont = []\n",
    "        self.label = None\n",
    "    \n",
    "    def add_feature(self, feature, is_continuous:bool):\n",
    "        self.features.append(feature)\n",
    "        self.features_cont.append(is_continuous)\n",
    "        \n",
    "    def set_label(self, label):\n",
    "        self.label = label\n",
    "        \n",
    "    def "
   ]
  }
 ],
 "metadata": {
  "kernelspec": {
   "display_name": "Python 3",
   "language": "python",
   "name": "python3"
  },
  "language_info": {
   "codemirror_mode": {
    "name": "ipython",
    "version": 3
   },
   "file_extension": ".py",
   "mimetype": "text/x-python",
   "name": "python",
   "nbconvert_exporter": "python",
   "pygments_lexer": "ipython3",
   "version": "3.6.7"
  }
 },
 "nbformat": 4,
 "nbformat_minor": 2
}
