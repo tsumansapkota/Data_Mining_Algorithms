{
 "cells": [
  {
   "cell_type": "code",
   "execution_count": 13,
   "metadata": {},
   "outputs": [],
   "source": [
    "# Multivariate adaptive regression splines\n",
    "import numpy as np\n",
    "from pyearth import Earth\n",
    "from matplotlib import pyplot"
   ]
  },
  {
   "cell_type": "code",
   "execution_count": 14,
   "metadata": {},
   "outputs": [],
   "source": [
    "#Create some fake data\n",
    "np.random.seed(0)\n",
    "m = 1000\n",
    "n = 10\n",
    "x = 80*numpy.random.uniform(size=(m,n)) - 40\n",
    "y = numpy.abs(x[:,6] - 4.0) + 1*numpy.random.normal(size=m)"
   ]
  },
  {
   "cell_type": "code",
   "execution_count": 16,
   "metadata": {},
   "outputs": [],
   "source": [
    "#Define a simple range of values for x and reshape so sklearn likes it.,\n",
    "x = np.linspace(0,1,200)\n",
    "noise = np.random.normal(0,0.02, x.shape)\n",
    "x = x + noise\n",
    "y= (2 * np.sin(10*x) + np.cos(20 * x - 3) + 3 * np.log(10*x + 0.5) - 4)/6.\n",
    "noise = np.random.normal(0,0.1, x.shape)\n",
    "y = y + noise\n",
    "x = x - 0.5"
   ]
  },
  {
   "cell_type": "code",
   "execution_count": 17,
   "metadata": {},
   "outputs": [
    {
     "name": "stdout",
     "output_type": "stream",
     "text": [
      "Forward Pass\n",
      "---------------------------------------------------------------\n",
      "iter  parent  var  knot  mse       terms  gcv    rsq    grsq   \n",
      "---------------------------------------------------------------\n",
      "0     -       -    -     0.194660  1      0.197  0.000  0.000  \n",
      "1     0       0    27    0.069444  3      0.074  0.643  0.625  \n",
      "2     0       0    68    0.056312  5      0.063  0.711  0.679  \n",
      "3     0       0    155   0.030608  7      0.036  0.843  0.816  \n",
      "4     0       0    123   0.017937  9      0.022  0.908  0.886  \n",
      "5     0       0    158   0.015146  11     0.020  0.922  0.898  \n",
      "6     0       0    36    0.012851  13     0.018  0.934  0.908  \n",
      "7     0       0    96    0.011229  15     0.017  0.942  0.915  \n",
      "8     0       0    188   0.010600  17     0.017  0.946  0.915  \n",
      "9     0       0    -1    0.010600  18     0.017  0.946  0.912  \n",
      "---------------------------------------------------------------\n",
      "Stopping Condition 2: Improvement below threshold\n",
      "\n",
      "Pruning Pass\n",
      "----------------------------------------------\n",
      "iter  bf  terms  mse   gcv    rsq     grsq    \n",
      "----------------------------------------------\n",
      "0     -   18     0.01  0.017  0.946   0.912   \n",
      "1     9   17     0.01  0.017  0.946   0.915   \n",
      "2     16  16     0.01  0.016  0.946   0.917   \n",
      "3     11  15     0.01  0.016  0.946   0.920   \n",
      "4     13  14     0.01  0.015  0.946   0.922   \n",
      "5     2   13     0.01  0.015  0.946   0.924   \n",
      "6     5   12     0.01  0.014  0.946   0.927   \n",
      "7     8   11     0.01  0.014  0.946   0.929   \n",
      "8     17  10     0.01  0.014  0.946   0.931   \n",
      "9     6   9      0.01  0.013  0.945   0.932   \n",
      "10    3   8      0.01  0.013  0.943   0.932   \n",
      "11    15  7      0.01  0.014  0.939   0.928   \n",
      "12    14  6      0.01  0.015  0.932   0.922   \n",
      "13    4   5      0.02  0.020  0.909   0.899   \n",
      "14    12  4      0.02  0.020  0.906   0.898   \n",
      "15    7   3      0.07  0.074  0.643   0.625   \n",
      "16    1   2      0.08  0.085  0.578   0.568   \n",
      "17    10  1      0.19  0.197  -0.000  -0.000  \n",
      "----------------------------------------------\n",
      "Selected iteration: 9\n",
      "\n",
      "Earth Model\n",
      "---------------------------------------\n",
      "Basis Function    Pruned  Coefficient  \n",
      "---------------------------------------\n",
      "(Intercept)       No      7.20628      \n",
      "h(x0+0.395257)    No      -8.95668     \n",
      "h(-0.395257-x0)   Yes     None         \n",
      "h(x0+0.171246)    No      -2.92906     \n",
      "h(-0.171246-x0)   No      8.48333      \n",
      "h(x0-0.312375)    Yes     None         \n",
      "h(0.312375-x0)    Yes     None         \n",
      "h(x0-0.0856553)   No      6.37125      \n",
      "h(0.0856553-x0)   Yes     None         \n",
      "h(x0-0.291028)    Yes     None         \n",
      "h(0.291028-x0)    No      -10.8978     \n",
      "h(x0+0.303452)    Yes     None         \n",
      "h(-0.303452-x0)   No      -5.71354     \n",
      "h(x0+0.0365651)   Yes     None         \n",
      "h(-0.0365651-x0)  No      -3.05131     \n",
      "h(x0-0.432226)    No      5.56445      \n",
      "h(0.432226-x0)    Yes     None         \n",
      "x0                Yes     None         \n",
      "---------------------------------------\n",
      "MSE: 0.0107, GCV: 0.0134, RSQ: 0.9451, GRSQ: 0.9321\n"
     ]
    },
    {
     "name": "stderr",
     "output_type": "stream",
     "text": [
      "/home/tsuman/Program_Files/miniconda3/lib/python3.6/site-packages/sklearn_contrib_py_earth-0.1.0-py3.6-linux-x86_64.egg/pyearth/earth.py:802: FutureWarning: `rcond` parameter will change to the default of machine precision times ``max(M, N)`` where M and N are the input matrix dimensions.\n",
      "To use the future default and silence this warning we advise to pass `rcond=None`, to keep using the old, explicitly pass `rcond=-1`.\n",
      "  pruning_passer.run()\n",
      "/home/tsuman/Program_Files/miniconda3/lib/python3.6/site-packages/sklearn_contrib_py_earth-0.1.0-py3.6-linux-x86_64.egg/pyearth/earth.py:1055: FutureWarning: `rcond` parameter will change to the default of machine precision times ``max(M, N)`` where M and N are the input matrix dimensions.\n",
      "To use the future default and silence this warning we advise to pass `rcond=None`, to keep using the old, explicitly pass `rcond=-1`.\n",
      "  coef, resid = np.linalg.lstsq(B, weighted_y[:, i])[0:2]\n"
     ]
    }
   ],
   "source": [
    "#Fit an Earth model\n",
    "model = Earth()\n",
    "model.fit(x,y)\n",
    "\n",
    "#Print the model\n",
    "print(model.trace())\n",
    "print(model.summary())"
   ]
  },
  {
   "cell_type": "code",
   "execution_count": 24,
   "metadata": {},
   "outputs": [
    {
     "data": {
      "text/plain": [
       "Text(0.5,1,'Simple Earth Example')"
      ]
     },
     "execution_count": 24,
     "metadata": {},
     "output_type": "execute_result"
    },
    {
     "data": {
      "image/png": "[encoded data removed]",
      "text/plain": [
       "<Figure size 432x288 with 1 Axes>"
      ]
     },
     "metadata": {},
     "output_type": "display_data"
    }
   ],
   "source": [
    "#Plot the model\n",
    "y_hat = model.predict(x)\n",
    "pyplot.figure()\n",
    "pyplot.plot(x,y,'r.')\n",
    "pyplot.plot(x,y_hat,'b.')\n",
    "pyplot.xlabel('x_6')\n",
    "pyplot.ylabel('y')\n",
    "pyplot.title('Simple Earth Example')\n",
    "# pyplot.show()"
   ]
  },
  {
   "cell_type": "code",
   "execution_count": null,
   "metadata": {},
   "outputs": [],
   "source": []
  }
 ],
 "metadata": {
  "kernelspec": {
   "display_name": "Python 3",
   "language": "python",
   "name": "python3"
  },
  "language_info": {
   "codemirror_mode": {
    "name": "ipython",
    "version": 3
   },
   "file_extension": ".py",
   "mimetype": "text/x-python",
   "name": "python",
   "nbconvert_exporter": "python",
   "pygments_lexer": "ipython3",
   "version": "3.6.7"
  }
 },
 "nbformat": 4,
 "nbformat_minor": 2
}
