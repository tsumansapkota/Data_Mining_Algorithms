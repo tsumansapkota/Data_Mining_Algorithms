{
 "cells": [
  {
   "cell_type": "code",
   "execution_count": 1,
   "metadata": {},
   "outputs": [],
   "source": [
    "import numpy as np\n",
    "import matplotlib\n",
    "import matplotlib.pyplot as plt\n",
    "%matplotlib inline\n",
    "from sklearn.datasets import make_blobs"
   ]
  },
  {
   "cell_type": "code",
   "execution_count": 2,
   "metadata": {},
   "outputs": [],
   "source": [
    "# making cluster with 200 data points in 2-dimension with 3 noisy clusters\n",
    "blob_data = make_blobs(n_samples=20, n_features=2, centers=3, cluster_std=1)\n",
    "# the tuple of generated sample contains =>(data points in 2d, respective cluster it belongs to)\n",
    "data = blob_data[0]\n",
    "labels = blob_data[1]"
   ]
  },
  {
   "cell_type": "code",
   "execution_count": 3,
   "metadata": {},
   "outputs": [
    {
     "data": {
      "text/plain": [
       "<matplotlib.collections.PathCollection at 0x7fcb27e3bba8>"
      ]
     },
     "execution_count": 3,
     "metadata": {},
     "output_type": "execute_result"
    },
    {
     "data": {
      "image/png": "[encoded data removed]",
      "text/plain": [
       "<Figure size 432x288 with 1 Axes>"
      ]
     },
     "metadata": {},
     "output_type": "display_data"
    }
   ],
   "source": [
    "# Plotting the data points in 2d\n",
    "datax = data[:,0]\n",
    "datay = data[:, 1]\n",
    "plt.scatter(datax, datay)"
   ]
  },
  {
   "cell_type": "code",
   "execution_count": 4,
   "metadata": {},
   "outputs": [],
   "source": [
    "def _distance(point1, point2):\n",
    "    diff = point1 - point2 # difference between center and data point\n",
    "    sqrd = np.square(diff) # elementwise squaring\n",
    "    axis = 1 if len(sqrd.shape) == 2 else None\n",
    "    sumd = np.sum(sqrd, axis=axis) # not summing all data. but only n_features,i.e. columns (axis = 1)\n",
    "    sqrt = np.sqrt(sumd) # square root after sum\n",
    "    return sqrt"
   ]
  },
  {
   "cell_type": "code",
   "execution_count": null,
   "metadata": {},
   "outputs": [],
   "source": []
  },
  {
   "cell_type": "code",
   "execution_count": 5,
   "metadata": {},
   "outputs": [
    {
     "data": {
      "text/plain": [
       "(20,)"
      ]
     },
     "execution_count": 5,
     "metadata": {},
     "output_type": "execute_result"
    }
   ],
   "source": [
    "_distance(data[0], data).shape"
   ]
  },
  {
   "cell_type": "code",
   "execution_count": 6,
   "metadata": {},
   "outputs": [],
   "source": [
    "base_data = data\n",
    "\n",
    "point1 = []\n",
    "point2 = []\n",
    "distance = []\n",
    "indices = []\n",
    "for i in range(len(base_data)):\n",
    "    pt1 = base_data[i]\n",
    "    otherpt = np.delete(base_data, i , axis=0)\n",
    "#     print(pt1, otherpt)\n",
    "    dist = _distance(pt1, otherpt)\n",
    "#     print(pt1)\n",
    "#     print(np.c_[base_data, dist])\n",
    "#     dist = np.delete(dist, i, axis=0)\n",
    "    closest = np.argmin(dist)\n",
    "#     print(f'closest to {pt1} is {otherpt[closest]}, {closest}, {dist[closest]}')\n",
    "    point1.append(pt1)\n",
    "    point2.append(otherpt[closest])\n",
    "    distance.append(dist[closest])\n",
    "    index = closest\n",
    "    if closest > i :index = closest+1\n",
    "    indices.append((i, index))"
   ]
  },
  {
   "cell_type": "code",
   "execution_count": 7,
   "metadata": {},
   "outputs": [
    {
     "data": {
      "text/plain": [
       "(1,\n",
       " 0.1592963196812995,\n",
       " array([-2.61010601, -5.87217495]),\n",
       " array([-2.62231919, -6.03100239]),\n",
       " (1, 9))"
      ]
     },
     "execution_count": 7,
     "metadata": {},
     "output_type": "execute_result"
    }
   ],
   "source": [
    "min_dist_i = np.argmin(distance)\n",
    "min_dist_i, distance[min_dist_i], point1[min_dist_i], point2[min_dist_i], indices[min_dist_i]"
   ]
  },
  {
   "cell_type": "code",
   "execution_count": 8,
   "metadata": {},
   "outputs": [
    {
     "data": {
      "text/plain": [
       "(20, 2)"
      ]
     },
     "execution_count": 8,
     "metadata": {},
     "output_type": "execute_result"
    }
   ],
   "source": [
    "base_data.shape"
   ]
  },
  {
   "cell_type": "code",
   "execution_count": 9,
   "metadata": {},
   "outputs": [
    {
     "name": "stdout",
     "output_type": "stream",
     "text": [
      "(1, 9)\n"
     ]
    },
    {
     "data": {
      "text/plain": [
       "(19, 2)"
      ]
     },
     "execution_count": 9,
     "metadata": {},
     "output_type": "execute_result"
    }
   ],
   "source": [
    "base_data = np.delete(data, indices[min_dist_i][1], axis=0)\n",
    "print(indices[min_dist_i])\n",
    "base_data[indices[min_dist_i][0]] = (point1[min_dist_i] + point2[min_dist_i])/2.0\n",
    "base_data.shape"
   ]
  },
  {
   "cell_type": "code",
   "execution_count": 10,
   "metadata": {},
   "outputs": [],
   "source": [
    "point1 = []\n",
    "point2 = []\n",
    "distance = []\n",
    "for i in range(len(base_data)):\n",
    "    pt1 = base_data[i]\n",
    "    otherpt = np.delete(base_data, i , axis=0)\n",
    "#     print(pt1, otherpt)\n",
    "    dist = _distance(pt1, otherpt)\n",
    "#     print(pt1)\n",
    "#     print(np.c_[base_data, dist])\n",
    "#     dist = np.delete(dist, i, axis=0)\n",
    "    closest = np.argmin(dist)\n",
    "#     print(f'closest to {pt1} is {otherpt[closest]}, {closest}, {dist[closest]}')\n",
    "    point1.append(pt1)\n",
    "    point2.append(otherpt[closest])\n",
    "    distance.append(dist[closest])"
   ]
  },
  {
   "cell_type": "markdown",
   "metadata": {},
   "source": [
    "## try more powerful way"
   ]
  },
  {
   "cell_type": "code",
   "execution_count": 11,
   "metadata": {},
   "outputs": [
    {
     "name": "stdout",
     "output_type": "stream",
     "text": [
      "[[0. 0. 0. 0. 0. 0. 0. 0. 0. 0. 0. 0. 0. 0. 0. 0. 0. 0. 0. 0.]\n",
      " [0. 0. 0. 0. 0. 0. 0. 0. 0. 0. 0. 0. 0. 0. 0. 0. 0. 0. 0. 0.]\n",
      " [0. 0. 0. 0. 0. 0. 0. 0. 0. 0. 0. 0. 0. 0. 0. 0. 0. 0. 0. 0.]\n",
      " [0. 0. 0. 0. 0. 0. 0. 0. 0. 0. 0. 0. 0. 0. 0. 0. 0. 0. 0. 0.]\n",
      " [0. 0. 0. 0. 0. 0. 0. 0. 0. 0. 0. 0. 0. 0. 0. 0. 0. 0. 0. 0.]\n",
      " [0. 0. 0. 0. 0. 0. 0. 0. 0. 0. 0. 0. 0. 0. 0. 0. 0. 0. 0. 0.]\n",
      " [0. 0. 0. 0. 0. 0. 0. 0. 0. 0. 0. 0. 0. 0. 0. 0. 0. 0. 0. 0.]\n",
      " [0. 0. 0. 0. 0. 0. 0. 0. 0. 0. 0. 0. 0. 0. 0. 0. 0. 0. 0. 0.]\n",
      " [0. 0. 0. 0. 0. 0. 0. 0. 0. 0. 0. 0. 0. 0. 0. 0. 0. 0. 0. 0.]\n",
      " [0. 0. 0. 0. 0. 0. 0. 0. 0. 0. 0. 0. 0. 0. 0. 0. 0. 0. 0. 0.]\n",
      " [0. 0. 0. 0. 0. 0. 0. 0. 0. 0. 0. 0. 0. 0. 0. 0. 0. 0. 0. 0.]\n",
      " [0. 0. 0. 0. 0. 0. 0. 0. 0. 0. 0. 0. 0. 0. 0. 0. 0. 0. 0. 0.]\n",
      " [0. 0. 0. 0. 0. 0. 0. 0. 0. 0. 0. 0. 0. 0. 0. 0. 0. 0. 0. 0.]\n",
      " [0. 0. 0. 0. 0. 0. 0. 0. 0. 0. 0. 0. 0. 0. 0. 0. 0. 0. 0. 0.]\n",
      " [0. 0. 0. 0. 0. 0. 0. 0. 0. 0. 0. 0. 0. 0. 0. 0. 0. 0. 0. 0.]\n",
      " [0. 0. 0. 0. 0. 0. 0. 0. 0. 0. 0. 0. 0. 0. 0. 0. 0. 0. 0. 0.]\n",
      " [0. 0. 0. 0. 0. 0. 0. 0. 0. 0. 0. 0. 0. 0. 0. 0. 0. 0. 0. 0.]\n",
      " [0. 0. 0. 0. 0. 0. 0. 0. 0. 0. 0. 0. 0. 0. 0. 0. 0. 0. 0. 0.]\n",
      " [0. 0. 0. 0. 0. 0. 0. 0. 0. 0. 0. 0. 0. 0. 0. 0. 0. 0. 0. 0.]\n",
      " [0. 0. 0. 0. 0. 0. 0. 0. 0. 0. 0. 0. 0. 0. 0. 0. 0. 0. 0. 0.]]\n",
      "closest to [-3.57601751  8.39439926] is [-3.72209233  8.46465839], 17, 0.162093176947779, 0.162093176947779, 0.162093176947779\n",
      "closest to [-2.61010601 -5.87217495] is [-2.62231919 -6.03100239], 9, 0.1592963196812995, 0.1592963196812995, 0.1592963196812995\n",
      "closest to [-4.61671622 -7.11406398] is [-4.0640785  -7.89694196], 15, 0.9582830357050922, 0.9582830357050922, 0.9582830357050922\n",
      "closest to [-6.01134941 -8.36443459] is [-6.67885364 -9.21468657], 10, 1.0809673051151687, 1.0809673051151687, 1.0809673051151687\n",
      "closest to [ -7.84677714 -10.6264822 ] is [ -7.56648755 -10.40049535], 6, 0.360044878389692, 0.360044878389692, 0.360044878389692\n",
      "closest to [ -8.10699821 -10.31325173] is [ -7.56648755 -10.40049535], 6, 0.5475063654218185, 0.5475063654218185, 0.5475063654218185\n",
      "closest to [ -7.56648755 -10.40049535] is [-7.6664711  -9.51185859], 11, 0.8942438108917556, 0.8942438108917556, 0.8942438108917556\n",
      "closest to [-3.17096434 -6.61014114] is [-3.57917344 -6.43899041], 13, 0.442636697162659, 0.442636697162659, 0.442636697162659\n",
      "closest to [-4.63131653  9.81022088] is [-4.0652871   9.24632332], 16, 0.7989804598866044, 0.7989804598866044, 0.7989804598866044\n",
      "closest to [-2.62231919 -6.03100239] is [-3.57917344 -6.43899041], 13, 1.0402039570445738, 1.0402039570445738, 1.0402039570445738\n",
      "closest to [-6.67885364 -9.21468657] is [-7.6664711  -9.51185859], 11, 1.0313580650491276, 1.0313580650491276, 1.0313580650491276\n",
      "closest to [-7.6664711  -9.51185859] is [-4.0640785  -7.89694196], 15, 3.947808015530514, 3.947808015530514, 3.947808015530514\n",
      "closest to [-4.98940789  8.06642972] is [-5.24410051  9.23803585], 19, 1.198970084656478, 1.198970084656478, 1.198970084656478\n",
      "closest to [-3.57917344 -6.43899041] is [-2.65209627 -7.56893202], 18, 1.4615882212452653, 1.4615882212452653, 1.4615882212452653\n",
      "closest to [-4.13160082 11.80445528] is [-4.0652871   9.24632332], 16, 2.5589913370525568, 2.5589913370525568, 2.5589913370525568\n",
      "closest to [-4.0640785  -7.89694196] is [-2.65209627 -7.56893202], 18, 1.4495807429178331, 1.4495807429178331, 1.4495807429178331\n",
      "closest to [-4.0652871   9.24632332] is [-3.72209233  8.46465839], 17, 0.8536877166434983, 0.8536877166434983, 0.8536877166434983\n",
      "closest to [-3.72209233  8.46465839] is [-5.24410051  9.23803585], 19, 1.7072262867221044, 1.7072262867221044, 1.7072262867221044\n",
      "closest to [-2.65209627 -7.56893202] is [-5.24410051  9.23803585], 19, 17.00566538047068, 17.00566538047068, 17.00566538047068\n",
      "[[ 0.    14.299 15.543 16.935 19.494 19.249 19.214 15.01   1.766 14.457\n",
      "  17.88  18.368  1.451 14.833  3.455 16.299  0.982  0.162 15.99   1.869]\n",
      " [ 0.     0.     2.36   4.217  7.073  7.067  6.714  0.927 15.812  0.159\n",
      "   5.266  6.23  14.14   1.123 17.742  2.493 15.188 14.38   1.697 15.338]\n",
      " [ 0.     0.     0.     1.873  4.772  4.735  4.416  1.531 16.924  2.27\n",
      "   2.944  3.879 15.185  1.238 18.925  0.958 16.37  15.604  2.017 16.364]\n",
      " [ 0.     0.     0.     0.     2.913  2.862  2.562  3.338 18.227  4.115\n",
      "   1.081  2.014 16.463  3.102 20.256  2.003 17.718 16.984  3.452 17.619]\n",
      " [ 0.     0.     0.     0.     0.     0.407  0.36   6.164 20.688  6.958\n",
      "   1.832  1.129 18.91   5.979 22.737  4.665 20.229 19.532  6.028 20.034]\n",
      " [ 0.     0.     0.     0.     0.     0.     0.548  6.171 20.421  6.958\n",
      "   1.802  0.914 18.642  5.959 22.472  4.71  19.973 19.283  6.106 19.76 ]\n",
      " [ 0.     0.     0.     0.     0.     0.     0.     5.804 20.423  6.598\n",
      "   1.481  0.894 18.646  5.621 22.469  4.305 19.956 19.253  5.672 19.775]\n",
      " [ 0.     0.     0.     0.     0.     0.     0.     0.    16.485  0.798\n",
      "   4.369  5.351 14.789  0.443 18.44   1.566 15.882 15.085  1.09  15.983]\n",
      " [ 0.     0.     0.     0.     0.     0.     0.     0.     0.    15.968\n",
      "  19.135 19.559  1.78  16.283  2.056 17.716  0.799  1.624 17.491  0.838]\n",
      " [ 0.     0.     0.     0.     0.     0.     0.     0.     0.     0.\n",
      "   5.157  6.129 14.295  1.04  17.899  2.358 15.345 14.537  1.538 15.492]\n",
      " [ 0.     0.     0.     0.     0.     0.     0.     0.     0.     0.\n",
      "   0.     1.031 17.364  4.161 21.173  2.928 18.645 17.925  4.35  18.508]\n",
      " [ 0.     0.     0.     0.     0.     0.     0.     0.     0.     0.\n",
      "   0.     0.    17.781  5.114 21.607  3.948 19.101 18.404  5.378 18.906]\n",
      " [ 0.     0.     0.     0.     0.     0.     0.     0.     0.     0.\n",
      "   0.     0.     0.    14.574  3.835 15.99   1.499  1.328 15.809  1.199]\n",
      " [ 0.     0.     0.     0.     0.     0.     0.     0.     0.     0.\n",
      "   0.     0.     0.     0.    18.252  1.536 15.693 14.904  1.462 15.765]\n",
      " [ 0.     0.     0.     0.     0.     0.     0.     0.     0.     0.\n",
      "   0.     0.     0.     0.     0.    19.702  2.559  3.365 19.43   2.797]\n",
      " [ 0.     0.     0.     0.     0.     0.     0.     0.     0.     0.\n",
      "   0.     0.     0.     0.     0.     0.    17.143 16.365  1.45  17.176]\n",
      " [ 0.     0.     0.     0.     0.     0.     0.     0.     0.     0.\n",
      "   0.     0.     0.     0.     0.     0.     0.     0.854 16.875  1.179]\n",
      " [ 0.     0.     0.     0.     0.     0.     0.     0.     0.     0.\n",
      "   0.     0.     0.     0.     0.     0.     0.     0.    16.069  1.707]\n",
      " [ 0.     0.     0.     0.     0.     0.     0.     0.     0.     0.\n",
      "   0.     0.     0.     0.     0.     0.     0.     0.     0.    17.006]\n",
      " [ 0.     0.     0.     0.     0.     0.     0.     0.     0.     0.\n",
      "   0.     0.     0.     0.     0.     0.     0.     0.     0.     0.   ]]\n"
     ]
    }
   ],
   "source": [
    "base_data = data\n",
    "close_pair = []\n",
    "# point1 = []\n",
    "# point2 = []\n",
    "# distance = []\n",
    "# indices = []\n",
    "distances = np.zeros((len(data), len(data)))\n",
    "print(distances)\n",
    "\n",
    "for i in range(len(base_data)-1):\n",
    "    pt1 = base_data[i]\n",
    "    dist = _distance(pt1, base_data[i+1:])\n",
    "    distances[i, i+1:] = dist\n",
    "\n",
    "#     distances[i+1:, i] = dist\n",
    "    \n",
    "#     distances[i]\n",
    "#     print(pt1)\n",
    "#     print(np.c_[base_data, dist])\n",
    "#     dist = np.delete(dist, i, axis=0)\n",
    "    closest = np.argmin(dist) +i+1 \n",
    "#     distances[i, i+1+np.argmin(dist)] = dist[np.argmin(dist)]\n",
    "    close_pair.append((i, closest, np.min(dist)))\n",
    "    \n",
    "    print(f'closest to {pt1} is {data[closest]}, {closest}, {distances[i,closest]}, {np.min(dist)}, {_distance(pt1, data[closest])}')\n",
    "#     point1.append(pt1)\n",
    "#     point2.append(otherpt[closest])\n",
    "#     distance.append(dist[closest])\n",
    "#     index = closest\n",
    "#     if closest > i :index = closest+1\n",
    "#     indices.append((i, index))\n",
    "\n",
    "np.set_printoptions(precision=3)\n",
    "print(distances)"
   ]
  },
  {
   "cell_type": "code",
   "execution_count": 12,
   "metadata": {},
   "outputs": [
    {
     "data": {
      "text/plain": [
       "(1, 9, 0.1592963196812995)"
      ]
     },
     "execution_count": 12,
     "metadata": {},
     "output_type": "execute_result"
    }
   ],
   "source": [
    "close_pair[np.argmin(np.array(close_pair)[:,2])]"
   ]
  },
  {
   "cell_type": "code",
   "execution_count": 13,
   "metadata": {},
   "outputs": [
    {
     "data": {
      "text/plain": [
       "((19, 20), (20, 19))"
      ]
     },
     "execution_count": 13,
     "metadata": {},
     "output_type": "execute_result"
    }
   ],
   "source": [
    "np.delete(distances, 17, axis=0).shape, np.delete(distances, 17, axis=1).shape"
   ]
  },
  {
   "cell_type": "code",
   "execution_count": 14,
   "metadata": {},
   "outputs": [
    {
     "data": {
      "text/plain": [
       "(19, 2)"
      ]
     },
     "execution_count": 14,
     "metadata": {},
     "output_type": "execute_result"
    }
   ],
   "source": [
    "base_data[6] = (data[6] + data[17]) / 2\n",
    "base_data = np.delete(base_data, 17, axis=0)\n",
    "base_data.shape"
   ]
  },
  {
   "cell_type": "code",
   "execution_count": 15,
   "metadata": {},
   "outputs": [
    {
     "data": {
      "text/plain": [
       "(19, 19)"
      ]
     },
     "execution_count": 15,
     "metadata": {},
     "output_type": "execute_result"
    }
   ],
   "source": [
    "distances = np.delete(distances, 17, axis=0)\n",
    "distances = np.delete(distances, 17, axis=1)\n",
    "distances.shape"
   ]
  },
  {
   "cell_type": "code",
   "execution_count": 16,
   "metadata": {},
   "outputs": [
    {
     "data": {
      "text/plain": [
       "array([-5.644, -0.968])"
      ]
     },
     "execution_count": 16,
     "metadata": {},
     "output_type": "execute_result"
    }
   ],
   "source": [
    "base_data[6]"
   ]
  },
  {
   "cell_type": "code",
   "execution_count": 17,
   "metadata": {},
   "outputs": [
    {
     "name": "stdout",
     "output_type": "stream",
     "text": [
      "[[ 0.    14.299 15.543 16.935 19.494 19.249 19.214 15.01   1.766 14.457\n",
      "  17.88  18.368  1.451 14.833  3.455 16.299  0.982 15.99   1.869]\n",
      " [ 0.     0.     2.36   4.217  7.073  7.067  6.714  0.927 15.812  0.159\n",
      "   5.266  6.23  14.14   1.123 17.742  2.493 15.188  1.697 15.338]\n",
      " [ 0.     0.     0.     1.873  4.772  4.735  4.416  1.531 16.924  2.27\n",
      "   2.944  3.879 15.185  1.238 18.925  0.958 16.37   2.017 16.364]\n",
      " [ 0.     0.     0.     0.     2.913  2.862  2.562  3.338 18.227  4.115\n",
      "   1.081  2.014 16.463  3.102 20.256  2.003 17.718  3.452 17.619]\n",
      " [ 0.     0.     0.     0.     0.     0.407  0.36   6.164 20.688  6.958\n",
      "   1.832  1.129 18.91   5.979 22.737  4.665 20.229  6.028 20.034]\n",
      " [ 0.     0.     0.     0.     0.     0.     0.548  6.171 20.421  6.958\n",
      "   1.802  0.914 18.642  5.959 22.472  4.71  19.973  6.106 19.76 ]\n",
      " [ 0.     0.     0.     0.     0.     0.     0.     6.161 10.826  5.896\n",
      "   8.311  8.78   9.058  5.848 12.862  7.107 10.336  7.248 10.214]\n",
      " [ 0.     0.     0.     0.     0.     0.     0.     0.    16.485  0.798\n",
      "   4.369  5.351 14.789  0.443 18.44   1.566 15.882  1.09  15.983]\n",
      " [ 0.     0.     0.     0.     0.     0.     0.     0.     0.    15.968\n",
      "  19.135 19.559  1.78  16.283  2.056 17.716  0.799 17.491  0.838]\n",
      " [ 0.     0.     0.     0.     0.     0.     0.     0.     0.     0.\n",
      "   5.157  6.129 14.295  1.04  17.899  2.358 15.345  1.538 15.492]\n",
      " [ 0.     0.     0.     0.     0.     0.     0.     0.     0.     0.\n",
      "   0.     1.031 17.364  4.161 21.173  2.928 18.645  4.35  18.508]\n",
      " [ 0.     0.     0.     0.     0.     0.     0.     0.     0.     0.\n",
      "   0.     0.    17.781  5.114 21.607  3.948 19.101  5.378 18.906]\n",
      " [ 0.     0.     0.     0.     0.     0.     0.     0.     0.     0.\n",
      "   0.     0.     0.    14.574  3.835 15.99   1.499 15.809  1.199]\n",
      " [ 0.     0.     0.     0.     0.     0.     0.     0.     0.     0.\n",
      "   0.     0.     0.     0.    18.252  1.536 15.693  1.462 15.765]\n",
      " [ 0.     0.     0.     0.     0.     0.     0.     0.     0.     0.\n",
      "   0.     0.     0.     0.     0.    19.702  2.559 19.43   2.797]\n",
      " [ 0.     0.     0.     0.     0.     0.     0.     0.     0.     0.\n",
      "   0.     0.     0.     0.     0.     0.    17.143  1.45  17.176]\n",
      " [ 0.     0.     0.     0.     0.     0.     0.     0.     0.     0.\n",
      "   0.     0.     0.     0.     0.     0.     0.    16.875  1.179]\n",
      " [ 0.     0.     0.     0.     0.     0.     0.     0.     0.     0.\n",
      "   0.     0.     0.     0.     0.     0.     0.     0.    17.006]\n",
      " [ 0.     0.     0.     0.     0.     0.     0.     0.     0.     0.\n",
      "   0.     0.     0.     0.     0.     0.     0.     0.     0.   ]]\n"
     ]
    }
   ],
   "source": [
    "i=6\n",
    "pt1 = base_data[i]\n",
    "dist = _distance(pt1, base_data)\n",
    "distances[i, i+1:] = dist[i+1:]\n",
    "# distances[i+1:, i] = dist[i+1:]\n",
    "\n",
    "#     distances[i]\n",
    "#     print(pt1)\n",
    "#     print(np.c_[base_data, dist])\n",
    "#     dist = np.delete(dist, i, axis=0)\n",
    "closest = np.argmin(dist) +i+1 \n",
    "#     distances[i, i+1+np.argmin(dist)] = dist[np.argmin(dist)]\n",
    "close_pair.append((i, closest, np.min(dist)))\n",
    "print(distances)"
   ]
  },
  {
   "cell_type": "code",
   "execution_count": null,
   "metadata": {},
   "outputs": [],
   "source": []
  },
  {
   "cell_type": "code",
   "execution_count": null,
   "metadata": {},
   "outputs": [],
   "source": []
  },
  {
   "cell_type": "code",
   "execution_count": 18,
   "metadata": {},
   "outputs": [],
   "source": [
    "class Element(object):\n",
    "    \n",
    "    def __init__(self, **kwargs):\n",
    "        self.center = None\n",
    "        self.n_data = None\n",
    "        pass\n",
    "\n",
    "    def get_center(self):\n",
    "        pass\n",
    "    \n",
    "    def __repr__(self):\n",
    "        pass\n",
    "\n",
    "class Leaf(Element):\n",
    "    \n",
    "    def __init__(self, data):\n",
    "        self.center = data\n",
    "        self.n_data = 1\n",
    "    \n",
    "    def get_center(self):\n",
    "        return self.center, self.n_data\n",
    "    \n",
    "    def __repr__(self):\n",
    "        return f'{self.center} -> 1'"
   ]
  },
  {
   "cell_type": "code",
   "execution_count": 19,
   "metadata": {},
   "outputs": [],
   "source": [
    "class Cluster(Element):\n",
    "    \n",
    "    def __init__(self, node1, node2):\n",
    "        self.node1 = node1\n",
    "        self.node2 = node2\n",
    "        \n",
    "        c1, n1 = node1.get_center()\n",
    "        c2, n2 = node2.get_center()\n",
    "        n = n1+ n2\n",
    "        c = (c1*n1 + c2*n2)/n\n",
    "        \n",
    "        self.n_data = n\n",
    "        self.center = c\n",
    "    \n",
    "    def get_center(self):\n",
    "        return self.center, self.n_data\n",
    "    \n",
    "        \n",
    "    def __repr__(self):\n",
    "        return f'{self.center} -> {self.n_data}'"
   ]
  },
  {
   "cell_type": "code",
   "execution_count": 20,
   "metadata": {},
   "outputs": [],
   "source": [
    "cluster_list = []\n",
    "for dat in data:\n",
    "    cluster_list.append(Leaf(dat))"
   ]
  },
  {
   "cell_type": "code",
   "execution_count": 21,
   "metadata": {},
   "outputs": [
    {
     "data": {
      "text/plain": [
       "[[-3.576  8.394] -> 1,\n",
       " [-2.61  -5.872] -> 1,\n",
       " [-4.617 -7.114] -> 1,\n",
       " [-6.011 -8.364] -> 1,\n",
       " [ -7.847 -10.626] -> 1,\n",
       " [ -8.107 -10.313] -> 1,\n",
       " [-5.644 -0.968] -> 1,\n",
       " [-3.171 -6.61 ] -> 1,\n",
       " [-4.631  9.81 ] -> 1,\n",
       " [-2.622 -6.031] -> 1,\n",
       " [-6.679 -9.215] -> 1,\n",
       " [-7.666 -9.512] -> 1,\n",
       " [-4.989  8.066] -> 1,\n",
       " [-3.579 -6.439] -> 1,\n",
       " [-4.132 11.804] -> 1,\n",
       " [-4.064 -7.897] -> 1,\n",
       " [-4.065  9.246] -> 1,\n",
       " [-3.722  8.465] -> 1,\n",
       " [-2.652 -7.569] -> 1,\n",
       " [-5.244  9.238] -> 1]"
      ]
     },
     "execution_count": 21,
     "metadata": {},
     "output_type": "execute_result"
    }
   ],
   "source": [
    "cluster_list"
   ]
  },
  {
   "cell_type": "code",
   "execution_count": 22,
   "metadata": {},
   "outputs": [
    {
     "data": {
      "text/plain": [
       "[-3.613 -6.493] -> 2"
      ]
     },
     "execution_count": 22,
     "metadata": {},
     "output_type": "execute_result"
    }
   ],
   "source": [
    "cl1 = Cluster(cluster_list[1], cluster_list[2])\n",
    "cl1"
   ]
  },
  {
   "cell_type": "code",
   "execution_count": 23,
   "metadata": {},
   "outputs": [
    {
     "data": {
      "text/plain": [
       "[-3.601 -1.531] -> 3"
      ]
     },
     "execution_count": 23,
     "metadata": {},
     "output_type": "execute_result"
    }
   ],
   "source": [
    "Cluster(cluster_list[0], cl1)"
   ]
  },
  {
   "cell_type": "code",
   "execution_count": 24,
   "metadata": {},
   "outputs": [
    {
     "data": {
      "text/plain": [
       "array([-3.601, -1.531])"
      ]
     },
     "execution_count": 24,
     "metadata": {},
     "output_type": "execute_result"
    }
   ],
   "source": [
    "data[:3].mean(axis=0)"
   ]
  },
  {
   "cell_type": "markdown",
   "metadata": {},
   "source": [
    "### Making Algorithm"
   ]
  },
  {
   "cell_type": "code",
   "execution_count": 281,
   "metadata": {},
   "outputs": [],
   "source": [
    "class HierarchicalClustering(object):\n",
    "    \n",
    "    def __init__(self, data):\n",
    "        self.data = data\n",
    "        self.cluster_list = []\n",
    "        for dat in data:\n",
    "            self.cluster_list.append(Leaf(dat))\n",
    "        self.near_clusters = None\n",
    "        self.n_hierarchy = 0\n",
    "        \n",
    "    def _distance(self, cluster1:Element, cluster2:Element):\n",
    "        point1 = cluster1.center\n",
    "        point2 = cluster2.center\n",
    "        \n",
    "        diff = point1 - point2\n",
    "        sqrd = np.square(diff)\n",
    "        sumd = np.sum(sqrd)\n",
    "        sqrt = np.sqrt(sumd)\n",
    "        return sqrt\n",
    "    \n",
    "    def find_nearest_center(self):\n",
    "        min_dist = 9999999.\n",
    "        clusteri = None\n",
    "        clen = len(self.cluster_list)\n",
    "        for i in range(clen):\n",
    "#             cluster1 = self.cluster_list[i]\n",
    "            for j in range(i+1, clen):\n",
    "#                 if i==j:\n",
    "#                     print('i=j')\n",
    "#                     continue\n",
    "#                 cluster2= self.cluster_list[j]\n",
    "                dist = self._distance(self.cluster_list[i], self.cluster_list[j])\n",
    "                if dist < min_dist:\n",
    "                    min_dist = dist\n",
    "                    clusteri = (i, j)\n",
    "        self.near_clusters = clusteri\n",
    "        return self.near_clusters                \n",
    "        \n",
    "    def merge_nearest_clusters(self):\n",
    "        cl0 = self.near_clusters[0]\n",
    "        cl1 = self.near_clusters[1]\n",
    "        self.near_clusters = None\n",
    "        \n",
    "        new_cluster = Cluster(self.cluster_list[cl0], self.cluster_list[cl1])\n",
    "        self.cluster_list[cl0] = new_cluster # replacing first with\n",
    "        self.cluster_list.pop(cl1)\n",
    "        self.n_hierarchy += 1\n",
    "    \n",
    "#     def print_cluster(self, cluster=None, connection=None):\n",
    "#         if cluster is None:\n",
    "#             cluster = self.cluster_list[0]\n",
    "#         if connection is None:\n",
    "#             connection = '-'*self.n_hierarchy\n",
    "            \n",
    "#         if isinstance(cluster.node1, Leaf):\n",
    "#             print(cluster.node1.center, connection+'|')\n",
    "#         else:\n",
    "#             self.print_cluster(cluster.node1,connection[:-1])\n",
    "#         if isinstance(cluster.node2, Leaf):\n",
    "#             print(cluster.node2.center, connection+'|')\n",
    "#         else:\n",
    "#             self.print_cluster(cluster.node2, connection[:-1])\n",
    "\n",
    "#     def print_cluster(self, cluster=None, hierarchy=None):\n",
    "#         if cluster is None:\n",
    "#             cluster = self.cluster_list[0]\n",
    "#         if hierarchy is None:\n",
    "#             hierarchy = self.n_hierarchy\n",
    "        \n",
    "#         # base case\n",
    "#         if isinstance(cluster, Leaf):\n",
    "#             print('       '*(cluster.n_data-1), cluster.center, end='')\n",
    "#             return\n",
    "        \n",
    "#         self.print_cluster(cluster.node1, hierarchy-1)\n",
    "#         print('-------')\n",
    "#         print('       '*(cluster.n_data-1), cluster)        \n",
    "#         self.print_cluster(cluster.node2, hierarchy-1)\n",
    "#         print('-------')\n",
    "\n",
    "#     def print_cluster(self, cluster=None, hierarchy=None):\n",
    "#         if cluster is None:\n",
    "#             cluster = self.cluster_list[0]\n",
    "#         if hierarchy is None:\n",
    "#             hierarchy = self.n_hierarchy\n",
    "        \n",
    "#         # base case\n",
    "#         if isinstance(cluster, Leaf):\n",
    "#             print('       '*(cluster.n_data-1), cluster.center, end='')\n",
    "#             return\n",
    "        \n",
    "#         self.print_cluster(cluster.node1, hierarchy-1)\n",
    "#         print('-------')\n",
    "#         print('       '*(cluster.n_data-1), cluster)        \n",
    "#         self.print_cluster(cluster.node2, hierarchy-1)\n",
    "#         print('-------')"
   ]
  },
  {
   "cell_type": "code",
   "execution_count": 282,
   "metadata": {},
   "outputs": [],
   "source": [
    "hc = HierarchicalClustering(data[:7])"
   ]
  },
  {
   "cell_type": "code",
   "execution_count": 283,
   "metadata": {},
   "outputs": [
    {
     "data": {
      "text/plain": [
       "[[-3.576  8.394] -> 1,\n",
       " [-2.61  -5.872] -> 1,\n",
       " [-4.617 -7.114] -> 1,\n",
       " [-6.011 -8.364] -> 1,\n",
       " [ -7.847 -10.626] -> 1,\n",
       " [ -8.107 -10.313] -> 1,\n",
       " [-5.644 -0.968] -> 1]"
      ]
     },
     "execution_count": 283,
     "metadata": {},
     "output_type": "execute_result"
    }
   ],
   "source": [
    "hc.cluster_list"
   ]
  },
  {
   "cell_type": "code",
   "execution_count": 284,
   "metadata": {},
   "outputs": [
    {
     "data": {
      "text/plain": [
       "(4, 5)"
      ]
     },
     "execution_count": 284,
     "metadata": {},
     "output_type": "execute_result"
    }
   ],
   "source": [
    "hc.find_nearest_center()"
   ]
  },
  {
   "cell_type": "code",
   "execution_count": 285,
   "metadata": {},
   "outputs": [
    {
     "data": {
      "text/plain": [
       "[[-3.576  8.394] -> 1,\n",
       " [-2.61  -5.872] -> 1,\n",
       " [-4.617 -7.114] -> 1,\n",
       " [-6.011 -8.364] -> 1,\n",
       " [ -7.977 -10.47 ] -> 2,\n",
       " [-5.644 -0.968] -> 1]"
      ]
     },
     "execution_count": 285,
     "metadata": {},
     "output_type": "execute_result"
    }
   ],
   "source": [
    "hc.merge_nearest_clusters()\n",
    "hc.cluster_list"
   ]
  },
  {
   "cell_type": "code",
   "execution_count": 286,
   "metadata": {},
   "outputs": [],
   "source": [
    "for i in range(len(hc.cluster_list)-1):\n",
    "    hc.find_nearest_center()\n",
    "    hc.merge_nearest_clusters()\n",
    "#     print(hc.cluster_list, '\\n')"
   ]
  },
  {
   "cell_type": "code",
   "execution_count": 287,
   "metadata": {},
   "outputs": [
    {
     "data": {
      "text/plain": [
       "6"
      ]
     },
     "execution_count": 287,
     "metadata": {},
     "output_type": "execute_result"
    }
   ],
   "source": [
    "hc.n_hierarchy"
   ]
  },
  {
   "cell_type": "code",
   "execution_count": 316,
   "metadata": {},
   "outputs": [],
   "source": [
    "# def print_cluster(cluster=None, hierarchy=None, hc=None):\n",
    "#     if cluster is None:\n",
    "#         cluster = hc.cluster_list[0]\n",
    "#     if hierarchy is None:\n",
    "#         hierarchy = hc.n_hierarchy\n",
    "\n",
    "#     # base case\n",
    "#     if isinstance(cluster, Leaf):\n",
    "#         print('       '*(cluster.n_data-1), cluster.center, end='')\n",
    "#         return\n",
    "\n",
    "#     print_cluster(cluster.node1, hierarchy-1)\n",
    "#     print('-------')\n",
    "#     print('       '*(cluster.n_data-1), cluster)        \n",
    "#     print_cluster(cluster.node2, hierarchy-1)\n",
    "#     print('-------')\n",
    "    \n",
    "\n",
    "def print_cluster(cluster, spacing=\"    \"):\n",
    "\n",
    "    # Base case: we've reached a leaf\n",
    "    if isinstance(cluster, Leaf):\n",
    "        print (spacing +'===>', cluster.center)\n",
    "        return\n",
    "\n",
    "    # Print the center of this cluster\n",
    "    print (spacing + str(cluster.center))\n",
    "\n",
    "    # Call this function recursively on first node\n",
    "    print (spacing + '--> 1:')\n",
    "    print_cluster(cluster.node1, spacing + \"     \")\n",
    "\n",
    "    # Call this function recursively on the false branch\n",
    "    print (spacing + '--> 2:')\n",
    "    print_cluster(cluster.node2, spacing + \"     \")"
   ]
  },
  {
   "cell_type": "code",
   "execution_count": 317,
   "metadata": {},
   "outputs": [
    {
     "name": "stdout",
     "output_type": "stream",
     "text": [
      "    [-5.487 -4.981]\n",
      "    --> 1:\n",
      "         ===> [-3.576  8.394]\n",
      "    --> 2:\n",
      "         [-5.806 -7.21 ]\n",
      "         --> 1:\n",
      "              [-5.838 -8.458]\n",
      "              --> 1:\n",
      "                   [-4.413 -7.117]\n",
      "                   --> 1:\n",
      "                        ===> [-2.61  -5.872]\n",
      "                   --> 2:\n",
      "                        [-5.314 -7.739]\n",
      "                        --> 1:\n",
      "                             ===> [-4.617 -7.114]\n",
      "                        --> 2:\n",
      "                             ===> [-6.011 -8.364]\n",
      "              --> 2:\n",
      "                   [ -7.977 -10.47 ]\n",
      "                   --> 1:\n",
      "                        ===> [ -7.847 -10.626]\n",
      "                   --> 2:\n",
      "                        ===> [ -8.107 -10.313]\n",
      "         --> 2:\n",
      "              ===> [-5.644 -0.968]\n"
     ]
    }
   ],
   "source": [
    "print_cluster(hc.cluster_list[0])"
   ]
  }
 ],
 "metadata": {
  "kernelspec": {
   "display_name": "Python 3",
   "language": "python",
   "name": "python3"
  },
  "language_info": {
   "codemirror_mode": {
    "name": "ipython",
    "version": 3
   },
   "file_extension": ".py",
   "mimetype": "text/x-python",
   "name": "python",
   "nbconvert_exporter": "python",
   "pygments_lexer": "ipython3",
   "version": "3.6.7"
  }
 },
 "nbformat": 4,
 "nbformat_minor": 2
}
