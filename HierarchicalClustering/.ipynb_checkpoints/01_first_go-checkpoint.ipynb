{
 "cells": [
  {
   "cell_type": "code",
   "execution_count": 1,
   "metadata": {},
   "outputs": [],
   "source": [
    "import numpy as np\n",
    "import matplotlib\n",
    "import matplotlib.pyplot as plt\n",
    "%matplotlib inline\n",
    "from sklearn.datasets import make_blobs"
   ]
  },
  {
   "cell_type": "code",
   "execution_count": 2,
   "metadata": {},
   "outputs": [],
   "source": [
    "# making cluster with 200 data points in 2-dimension with 3 noisy clusters\n",
    "blob_data = make_blobs(n_samples=20, n_features=2, centers=3, cluster_std=1)\n",
    "# the tuple of generated sample contains =>(data points in 2d, respective cluster it belongs to)\n",
    "data = blob_data[0]\n",
    "labels = blob_data[1]"
   ]
  },
  {
   "cell_type": "code",
   "execution_count": 3,
   "metadata": {},
   "outputs": [
    {
     "data": {
      "text/plain": [
       "<matplotlib.collections.PathCollection at 0x7f61e62c6b70>"
      ]
     },
     "execution_count": 3,
     "metadata": {},
     "output_type": "execute_result"
    },
    {
     "data": {
      "image/png": "[encoded data removed]",
      "text/plain": [
       "<Figure size 432x288 with 1 Axes>"
      ]
     },
     "metadata": {},
     "output_type": "display_data"
    }
   ],
   "source": [
    "# Plotting the data points in 2d\n",
    "datax = data[:,0]\n",
    "datay = data[:, 1]\n",
    "plt.scatter(datax, datay)"
   ]
  },
  {
   "cell_type": "code",
   "execution_count": 4,
   "metadata": {},
   "outputs": [],
   "source": [
    "def _distance(point1, point2):\n",
    "    diff = point1 - point2 # difference between center and data point\n",
    "    sqrd = np.square(diff) # elementwise squaring\n",
    "    axis = 1 if len(sqrd.shape) == 2 else None\n",
    "    sumd = np.sum(sqrd, axis=axis) # not summing all data. but only n_features,i.e. columns (axis = 1)\n",
    "    sqrt = np.sqrt(sumd) # square root after sum\n",
    "    return sqrt"
   ]
  },
  {
   "cell_type": "code",
   "execution_count": null,
   "metadata": {},
   "outputs": [],
   "source": []
  },
  {
   "cell_type": "code",
   "execution_count": 5,
   "metadata": {},
   "outputs": [
    {
     "data": {
      "text/plain": [
       "(20,)"
      ]
     },
     "execution_count": 5,
     "metadata": {},
     "output_type": "execute_result"
    }
   ],
   "source": [
    "_distance(data[0], data).shape"
   ]
  },
  {
   "cell_type": "code",
   "execution_count": 6,
   "metadata": {},
   "outputs": [],
   "source": [
    "base_data = data\n",
    "\n",
    "point1 = []\n",
    "point2 = []\n",
    "distance = []\n",
    "indices = []\n",
    "for i in range(len(base_data)):\n",
    "    pt1 = base_data[i]\n",
    "    otherpt = np.delete(base_data, i , axis=0)\n",
    "#     print(pt1, otherpt)\n",
    "    dist = _distance(pt1, otherpt)\n",
    "#     print(pt1)\n",
    "#     print(np.c_[base_data, dist])\n",
    "#     dist = np.delete(dist, i, axis=0)\n",
    "    closest = np.argmin(dist)\n",
    "#     print(f'closest to {pt1} is {otherpt[closest]}, {closest}, {dist[closest]}')\n",
    "    point1.append(pt1)\n",
    "    point2.append(otherpt[closest])\n",
    "    distance.append(dist[closest])\n",
    "    index = closest\n",
    "    if closest > i :index = closest+1\n",
    "    indices.append((i, index))"
   ]
  },
  {
   "cell_type": "code",
   "execution_count": 7,
   "metadata": {},
   "outputs": [
    {
     "data": {
      "text/plain": [
       "(12,\n",
       " 0.28247194742383225,\n",
       " array([ -6.93011855, -11.48468904]),\n",
       " array([ -7.08547511, -11.24877647]),\n",
       " (12, 19))"
      ]
     },
     "execution_count": 7,
     "metadata": {},
     "output_type": "execute_result"
    }
   ],
   "source": [
    "min_dist_i = np.argmin(distance)\n",
    "min_dist_i, distance[min_dist_i], point1[min_dist_i], point2[min_dist_i], indices[min_dist_i]"
   ]
  },
  {
   "cell_type": "code",
   "execution_count": 8,
   "metadata": {},
   "outputs": [
    {
     "data": {
      "text/plain": [
       "(20, 2)"
      ]
     },
     "execution_count": 8,
     "metadata": {},
     "output_type": "execute_result"
    }
   ],
   "source": [
    "base_data.shape"
   ]
  },
  {
   "cell_type": "code",
   "execution_count": 9,
   "metadata": {},
   "outputs": [
    {
     "name": "stdout",
     "output_type": "stream",
     "text": [
      "(12, 19)\n"
     ]
    },
    {
     "data": {
      "text/plain": [
       "(19, 2)"
      ]
     },
     "execution_count": 9,
     "metadata": {},
     "output_type": "execute_result"
    }
   ],
   "source": [
    "base_data = np.delete(data, indices[min_dist_i][1], axis=0)\n",
    "print(indices[min_dist_i])\n",
    "base_data[indices[min_dist_i][0]] = (point1[min_dist_i] + point2[min_dist_i])/2.0\n",
    "base_data.shape"
   ]
  },
  {
   "cell_type": "code",
   "execution_count": 10,
   "metadata": {},
   "outputs": [],
   "source": [
    "point1 = []\n",
    "point2 = []\n",
    "distance = []\n",
    "for i in range(len(base_data)):\n",
    "    pt1 = base_data[i]\n",
    "    otherpt = np.delete(base_data, i , axis=0)\n",
    "#     print(pt1, otherpt)\n",
    "    dist = _distance(pt1, otherpt)\n",
    "#     print(pt1)\n",
    "#     print(np.c_[base_data, dist])\n",
    "#     dist = np.delete(dist, i, axis=0)\n",
    "    closest = np.argmin(dist)\n",
    "#     print(f'closest to {pt1} is {otherpt[closest]}, {closest}, {dist[closest]}')\n",
    "    point1.append(pt1)\n",
    "    point2.append(otherpt[closest])\n",
    "    distance.append(dist[closest])"
   ]
  },
  {
   "cell_type": "markdown",
   "metadata": {},
   "source": [
    "## try more powerful way"
   ]
  },
  {
   "cell_type": "code",
   "execution_count": 11,
   "metadata": {},
   "outputs": [
    {
     "name": "stdout",
     "output_type": "stream",
     "text": [
      "[[0. 0. 0. 0. 0. 0. 0. 0. 0. 0. 0. 0. 0. 0. 0. 0. 0. 0. 0. 0.]\n",
      " [0. 0. 0. 0. 0. 0. 0. 0. 0. 0. 0. 0. 0. 0. 0. 0. 0. 0. 0. 0.]\n",
      " [0. 0. 0. 0. 0. 0. 0. 0. 0. 0. 0. 0. 0. 0. 0. 0. 0. 0. 0. 0.]\n",
      " [0. 0. 0. 0. 0. 0. 0. 0. 0. 0. 0. 0. 0. 0. 0. 0. 0. 0. 0. 0.]\n",
      " [0. 0. 0. 0. 0. 0. 0. 0. 0. 0. 0. 0. 0. 0. 0. 0. 0. 0. 0. 0.]\n",
      " [0. 0. 0. 0. 0. 0. 0. 0. 0. 0. 0. 0. 0. 0. 0. 0. 0. 0. 0. 0.]\n",
      " [0. 0. 0. 0. 0. 0. 0. 0. 0. 0. 0. 0. 0. 0. 0. 0. 0. 0. 0. 0.]\n",
      " [0. 0. 0. 0. 0. 0. 0. 0. 0. 0. 0. 0. 0. 0. 0. 0. 0. 0. 0. 0.]\n",
      " [0. 0. 0. 0. 0. 0. 0. 0. 0. 0. 0. 0. 0. 0. 0. 0. 0. 0. 0. 0.]\n",
      " [0. 0. 0. 0. 0. 0. 0. 0. 0. 0. 0. 0. 0. 0. 0. 0. 0. 0. 0. 0.]\n",
      " [0. 0. 0. 0. 0. 0. 0. 0. 0. 0. 0. 0. 0. 0. 0. 0. 0. 0. 0. 0.]\n",
      " [0. 0. 0. 0. 0. 0. 0. 0. 0. 0. 0. 0. 0. 0. 0. 0. 0. 0. 0. 0.]\n",
      " [0. 0. 0. 0. 0. 0. 0. 0. 0. 0. 0. 0. 0. 0. 0. 0. 0. 0. 0. 0.]\n",
      " [0. 0. 0. 0. 0. 0. 0. 0. 0. 0. 0. 0. 0. 0. 0. 0. 0. 0. 0. 0.]\n",
      " [0. 0. 0. 0. 0. 0. 0. 0. 0. 0. 0. 0. 0. 0. 0. 0. 0. 0. 0. 0.]\n",
      " [0. 0. 0. 0. 0. 0. 0. 0. 0. 0. 0. 0. 0. 0. 0. 0. 0. 0. 0. 0.]\n",
      " [0. 0. 0. 0. 0. 0. 0. 0. 0. 0. 0. 0. 0. 0. 0. 0. 0. 0. 0. 0.]\n",
      " [0. 0. 0. 0. 0. 0. 0. 0. 0. 0. 0. 0. 0. 0. 0. 0. 0. 0. 0. 0.]\n",
      " [0. 0. 0. 0. 0. 0. 0. 0. 0. 0. 0. 0. 0. 0. 0. 0. 0. 0. 0. 0.]\n",
      " [0. 0. 0. 0. 0. 0. 0. 0. 0. 0. 0. 0. 0. 0. 0. 0. 0. 0. 0. 0.]]\n",
      "closest to [ 8.13299148 -0.12881538] is [7.62026199 0.08918071], 3, 0.5571479446766615, 0.5571479446766615, 0.5571479446766615\n",
      "closest to [7.24828886 0.22519198] is [7.62026199 0.08918071], 3, 0.3960594301722191, 0.3960594301722191, 0.3960594301722191\n",
      "closest to [-5.77122639 -8.41000488] is [-6.55999781 -9.7185033 ], 14, 1.5278509328338767, 1.5278509328338767, 1.5278509328338767\n",
      "closest to [7.62026199 0.08918071] is [ 7.3330063  -0.21673674], 5, 0.41964427627015205, 0.41964427627015205, 0.41964427627015205\n",
      "closest to [ 6.92711894 -2.9673485 ] is [ 7.39825259 -2.95255692], 18, 0.471365790572229, 0.471365790572229, 0.471365790572229\n",
      "closest to [ 7.3330063  -0.21673674] is [ 7.21323845 -0.66013394], 17, 0.4592879468696884, 0.4592879468696884, 0.4592879468696884\n",
      "closest to [ 7.63561031 -2.53384009] is [ 7.39825259 -2.95255692], 18, 0.4813132728302883, 0.4813132728302883, 0.4813132728302883\n",
      "closest to [ 7.09020825 -1.73528219] is [ 7.34910326 -1.41559638], 11, 0.4113704398706527, 0.4113704398706527, 0.4113704398706527\n",
      "closest to [ 8.4995371  -2.21762657] is [ 9.15005227 -2.56184264], 9, 0.7359719409138405, 0.7359719409138405, 0.7359719409138405\n",
      "closest to [ 9.15005227 -2.56184264] is [ 7.39825259 -2.95255692], 18, 1.7948425526308118, 1.7948425526308118, 1.7948425526308118\n",
      "closest to [ 5.2229862  -2.26557495] is [ 5.33551103 -0.96334598], 16, 1.30708153236202, 1.30708153236202, 1.30708153236202\n",
      "closest to [ 7.34910326 -1.41559638] is [ 7.21323845 -0.66013394], 17, 0.7675824057839807, 0.7675824057839807, 0.7675824057839807\n",
      "closest to [ -6.93011855 -11.48468904] is [ -7.08547511 -11.24877647], 19, 0.28247194742383225, 0.28247194742383225, 0.28247194742383225\n",
      "closest to [ -7.75488624 -10.00794155] is [ -8.29361502 -10.93901452], 15, 1.0756977218615933, 1.0756977218615933, 1.0756977218615933\n",
      "closest to [-6.55999781 -9.7185033 ] is [ -7.08547511 -11.24877647], 19, 1.6179809526346323, 1.6179809526346323, 1.6179809526346323\n",
      "closest to [ -8.29361502 -10.93901452] is [ -7.08547511 -11.24877647], 19, 1.2472187078154255, 1.2472187078154255, 1.2472187078154255\n",
      "closest to [ 5.33551103 -0.96334598] is [ 7.21323845 -0.66013394], 17, 1.9020509446082967, 1.9020509446082967, 1.9020509446082967\n",
      "closest to [ 7.21323845 -0.66013394] is [ 7.39825259 -2.95255692], 18, 2.2998768127560516, 2.2998768127560516, 2.2998768127560516\n",
      "closest to [ 7.39825259 -2.95255692] is [ -7.08547511 -11.24877647], 19, 16.691483662887702, 16.691483662887702, 16.691483662887702\n",
      "[[ 0.     0.953 16.183  0.557  3.084  0.805  2.456  1.915  2.121  2.637\n",
      "   3.61   1.507 18.864 18.709 17.546 19.665  2.919  1.062  2.918 18.848]\n",
      " [ 0.     0.    15.623  0.396  3.209  0.45   2.786  1.967  2.745  3.374\n",
      "   3.21   1.644 18.389 18.161 17.016 19.136  2.252  0.886  3.181 18.361]\n",
      " [ 0.     0.     0.    15.861 13.816 15.455 14.638 14.49  15.556 16.026\n",
      "  12.595 14.868  3.286  2.547  1.528  3.572 13.372 15.121 14.255  3.128]\n",
      " [ 0.     0.     0.     0.     3.134  0.42   2.623  1.9    2.469  3.061\n",
      "   3.36   1.529 18.592 18.394 17.242 19.362  2.516  0.853  3.05  18.569]\n",
      " [ 0.     0.     0.     0.     0.     2.78   0.831  1.243  1.742  2.26\n",
      "   1.843  1.608 16.266 16.283 15.082 17.182  2.559  2.325  0.471 16.277]\n",
      " [ 0.     0.     0.     0.     0.     0.     2.337  1.538  2.316  2.967\n",
      "   2.941  1.199 18.177 17.986 16.831 18.951  2.132  0.459  2.737 18.155]\n",
      " [ 0.     0.     0.     0.     0.     0.     0.     0.967  0.92   1.515\n",
      "   2.427  1.154 17.096 17.109 15.91  18.011  2.785  1.921  0.481 17.107]\n",
      " [ 0.     0.     0.     0.     0.     0.     0.     0.     1.49   2.219\n",
      "   1.941  0.411 17.077 16.995 15.813 17.927  1.917  1.082  1.256 17.072]\n",
      " [ 0.     0.     0.     0.     0.     0.     0.     0.     0.     0.736\n",
      "   3.277  1.402 17.999 18.025 16.824 18.923  3.404  2.02   1.324 18.013]\n",
      " [ 0.     0.     0.     0.     0.     0.     0.     0.     0.     0.\n",
      "   3.938  2.135 18.39  18.472 17.263 19.351  4.136  2.714  1.795 18.413]\n",
      " [ 0.     0.     0.     0.     0.     0.     0.     0.     0.     0.\n",
      "   0.     2.29  15.254 15.112 13.942 16.06   1.307  2.557  2.281 15.238]\n",
      " [ 0.     0.     0.     0.     0.     0.     0.     0.     0.     0.\n",
      "   0.     0.    17.472 17.377 16.199 18.314  2.064  0.768  1.538 17.466]\n",
      " [ 0.     0.     0.     0.     0.     0.     0.     0.     0.     0.\n",
      "   0.     0.     0.     1.691  1.805  1.469 16.16  17.81  16.676  0.282]\n",
      " [ 0.     0.     0.     0.     0.     0.     0.     0.     0.     0.\n",
      "   0.     0.     0.     0.     1.229  1.076 15.911 17.647 16.715  1.41 ]\n",
      " [ 0.     0.     0.     0.     0.     0.     0.     0.     0.     0.\n",
      "   0.     0.     0.     0.     0.     2.12  14.77  16.485 15.512  1.618]\n",
      " [ 0.     0.     0.     0.     0.     0.     0.     0.     0.     0.\n",
      "   0.     0.     0.     0.     0.     0.    16.89  18.604 17.607  1.247]\n",
      " [ 0.     0.     0.     0.     0.     0.     0.     0.     0.     0.\n",
      "   0.     0.     0.     0.     0.     0.     0.     1.902  2.866 16.127]\n",
      " [ 0.     0.     0.     0.     0.     0.     0.     0.     0.     0.\n",
      "   0.     0.     0.     0.     0.     0.     0.     0.     2.3   17.792]\n",
      " [ 0.     0.     0.     0.     0.     0.     0.     0.     0.     0.\n",
      "   0.     0.     0.     0.     0.     0.     0.     0.     0.    16.691]\n",
      " [ 0.     0.     0.     0.     0.     0.     0.     0.     0.     0.\n",
      "   0.     0.     0.     0.     0.     0.     0.     0.     0.     0.   ]]\n"
     ]
    }
   ],
   "source": [
    "base_data = data\n",
    "close_pair = []\n",
    "# point1 = []\n",
    "# point2 = []\n",
    "# distance = []\n",
    "# indices = []\n",
    "distances = np.zeros((len(data), len(data)))\n",
    "print(distances)\n",
    "\n",
    "for i in range(len(base_data)-1):\n",
    "    pt1 = base_data[i]\n",
    "    dist = _distance(pt1, base_data[i+1:])\n",
    "    distances[i, i+1:] = dist\n",
    "\n",
    "#     distances[i+1:, i] = dist\n",
    "    \n",
    "#     distances[i]\n",
    "#     print(pt1)\n",
    "#     print(np.c_[base_data, dist])\n",
    "#     dist = np.delete(dist, i, axis=0)\n",
    "    closest = np.argmin(dist) +i+1 \n",
    "#     distances[i, i+1+np.argmin(dist)] = dist[np.argmin(dist)]\n",
    "    close_pair.append((i, closest, np.min(dist)))\n",
    "    \n",
    "    print(f'closest to {pt1} is {data[closest]}, {closest}, {distances[i,closest]}, {np.min(dist)}, {_distance(pt1, data[closest])}')\n",
    "#     point1.append(pt1)\n",
    "#     point2.append(otherpt[closest])\n",
    "#     distance.append(dist[closest])\n",
    "#     index = closest\n",
    "#     if closest > i :index = closest+1\n",
    "#     indices.append((i, index))\n",
    "\n",
    "np.set_printoptions(precision=3)\n",
    "print(distances)"
   ]
  },
  {
   "cell_type": "code",
   "execution_count": 12,
   "metadata": {},
   "outputs": [
    {
     "data": {
      "text/plain": [
       "(12, 19, 0.28247194742383225)"
      ]
     },
     "execution_count": 12,
     "metadata": {},
     "output_type": "execute_result"
    }
   ],
   "source": [
    "close_pair[np.argmin(np.array(close_pair)[:,2])]"
   ]
  },
  {
   "cell_type": "code",
   "execution_count": 13,
   "metadata": {},
   "outputs": [
    {
     "data": {
      "text/plain": [
       "((19, 20), (20, 19))"
      ]
     },
     "execution_count": 13,
     "metadata": {},
     "output_type": "execute_result"
    }
   ],
   "source": [
    "np.delete(distances, 17, axis=0).shape, np.delete(distances, 17, axis=1).shape"
   ]
  },
  {
   "cell_type": "code",
   "execution_count": 14,
   "metadata": {},
   "outputs": [
    {
     "data": {
      "text/plain": [
       "(19, 2)"
      ]
     },
     "execution_count": 14,
     "metadata": {},
     "output_type": "execute_result"
    }
   ],
   "source": [
    "base_data[6] = (data[6] + data[17]) / 2\n",
    "base_data = np.delete(base_data, 17, axis=0)\n",
    "base_data.shape"
   ]
  },
  {
   "cell_type": "code",
   "execution_count": 15,
   "metadata": {},
   "outputs": [
    {
     "data": {
      "text/plain": [
       "(19, 19)"
      ]
     },
     "execution_count": 15,
     "metadata": {},
     "output_type": "execute_result"
    }
   ],
   "source": [
    "distances = np.delete(distances, 17, axis=0)\n",
    "distances = np.delete(distances, 17, axis=1)\n",
    "distances.shape"
   ]
  },
  {
   "cell_type": "code",
   "execution_count": 16,
   "metadata": {},
   "outputs": [
    {
     "data": {
      "text/plain": [
       "array([ 7.424, -1.597])"
      ]
     },
     "execution_count": 16,
     "metadata": {},
     "output_type": "execute_result"
    }
   ],
   "source": [
    "base_data[6]"
   ]
  },
  {
   "cell_type": "code",
   "execution_count": 17,
   "metadata": {},
   "outputs": [
    {
     "name": "stdout",
     "output_type": "stream",
     "text": [
      "[[ 0.     0.953 16.183  0.557  3.084  0.805  2.456  1.915  2.121  2.637\n",
      "   3.61   1.507 18.864 18.709 17.546 19.665  2.919  2.918 18.848]\n",
      " [ 0.     0.    15.623  0.396  3.209  0.45   2.786  1.967  2.745  3.374\n",
      "   3.21   1.644 18.389 18.161 17.016 19.136  2.252  3.181 18.361]\n",
      " [ 0.     0.     0.    15.861 13.816 15.455 14.638 14.49  15.556 16.026\n",
      "  12.595 14.868  3.286  2.547  1.528  3.572 13.372 14.255  3.128]\n",
      " [ 0.     0.     0.     0.     3.134  0.42   2.623  1.9    2.469  3.061\n",
      "   3.36   1.529 18.592 18.394 17.242 19.362  2.516  3.05  18.569]\n",
      " [ 0.     0.     0.     0.     0.     2.78   0.831  1.243  1.742  2.26\n",
      "   1.843  1.608 16.266 16.283 15.082 17.182  2.559  0.471 16.277]\n",
      " [ 0.     0.     0.     0.     0.     0.     2.337  1.538  2.316  2.967\n",
      "   2.941  1.199 18.177 17.986 16.831 18.951  2.132  2.737 18.155]\n",
      " [ 0.     0.     0.     0.     0.     0.     0.     0.362  1.241  1.977\n",
      "   2.301  0.196 17.43  17.354 16.172 18.285  2.183  1.356 17.427]\n",
      " [ 0.     0.     0.     0.     0.     0.     0.     0.     1.49   2.219\n",
      "   1.941  0.411 17.077 16.995 15.813 17.927  1.917  1.256 17.072]\n",
      " [ 0.     0.     0.     0.     0.     0.     0.     0.     0.     0.736\n",
      "   3.277  1.402 17.999 18.025 16.824 18.923  3.404  1.324 18.013]\n",
      " [ 0.     0.     0.     0.     0.     0.     0.     0.     0.     0.\n",
      "   3.938  2.135 18.39  18.472 17.263 19.351  4.136  1.795 18.413]\n",
      " [ 0.     0.     0.     0.     0.     0.     0.     0.     0.     0.\n",
      "   0.     2.29  15.254 15.112 13.942 16.06   1.307  2.281 15.238]\n",
      " [ 0.     0.     0.     0.     0.     0.     0.     0.     0.     0.\n",
      "   0.     0.    17.472 17.377 16.199 18.314  2.064  1.538 17.466]\n",
      " [ 0.     0.     0.     0.     0.     0.     0.     0.     0.     0.\n",
      "   0.     0.     0.     1.691  1.805  1.469 16.16  16.676  0.282]\n",
      " [ 0.     0.     0.     0.     0.     0.     0.     0.     0.     0.\n",
      "   0.     0.     0.     0.     1.229  1.076 15.911 16.715  1.41 ]\n",
      " [ 0.     0.     0.     0.     0.     0.     0.     0.     0.     0.\n",
      "   0.     0.     0.     0.     0.     2.12  14.77  15.512  1.618]\n",
      " [ 0.     0.     0.     0.     0.     0.     0.     0.     0.     0.\n",
      "   0.     0.     0.     0.     0.     0.    16.89  17.607  1.247]\n",
      " [ 0.     0.     0.     0.     0.     0.     0.     0.     0.     0.\n",
      "   0.     0.     0.     0.     0.     0.     0.     2.866 16.127]\n",
      " [ 0.     0.     0.     0.     0.     0.     0.     0.     0.     0.\n",
      "   0.     0.     0.     0.     0.     0.     0.     0.    16.691]\n",
      " [ 0.     0.     0.     0.     0.     0.     0.     0.     0.     0.\n",
      "   0.     0.     0.     0.     0.     0.     0.     0.     0.   ]]\n"
     ]
    }
   ],
   "source": [
    "i=6\n",
    "pt1 = base_data[i]\n",
    "dist = _distance(pt1, base_data)\n",
    "distances[i, i+1:] = dist[i+1:]\n",
    "# distances[i+1:, i] = dist[i+1:]\n",
    "\n",
    "#     distances[i]\n",
    "#     print(pt1)\n",
    "#     print(np.c_[base_data, dist])\n",
    "#     dist = np.delete(dist, i, axis=0)\n",
    "closest = np.argmin(dist) +i+1 \n",
    "#     distances[i, i+1+np.argmin(dist)] = dist[np.argmin(dist)]\n",
    "close_pair.append((i, closest, np.min(dist)))\n",
    "print(distances)"
   ]
  },
  {
   "cell_type": "code",
   "execution_count": null,
   "metadata": {},
   "outputs": [],
   "source": []
  },
  {
   "cell_type": "code",
   "execution_count": null,
   "metadata": {},
   "outputs": [],
   "source": []
  },
  {
   "cell_type": "code",
   "execution_count": 18,
   "metadata": {},
   "outputs": [],
   "source": [
    "class Element(object):\n",
    "    \n",
    "    def __init__(self, **kwargs):\n",
    "        self.center = None\n",
    "        self.n_data = None\n",
    "        pass\n",
    "\n",
    "    def get_center(self):\n",
    "        pass\n",
    "    \n",
    "    def __repr__(self):\n",
    "        pass\n",
    "\n",
    "class Leaf(Element):\n",
    "    \n",
    "    def __init__(self, data):\n",
    "        self.center = data\n",
    "        self.n_data = 1\n",
    "    \n",
    "    def get_center(self):\n",
    "        return self.center, self.n_data\n",
    "    \n",
    "    def __repr__(self):\n",
    "        return f'{self.center} -> 1'"
   ]
  },
  {
   "cell_type": "code",
   "execution_count": 19,
   "metadata": {},
   "outputs": [],
   "source": [
    "class Cluster(Element):\n",
    "    \n",
    "    def __init__(self, node1, node2):\n",
    "        self.node1 = node1\n",
    "        self.node2 = node2\n",
    "        \n",
    "        c1, n1 = node1.get_center()\n",
    "        c2, n2 = node2.get_center()\n",
    "        n = n1+ n2\n",
    "        c = (c1*n1 + c2*n2)/n\n",
    "        \n",
    "        self.n_data = n\n",
    "        self.center = c\n",
    "    \n",
    "    def get_center(self):\n",
    "        return self.center, self.n_data\n",
    "    \n",
    "        \n",
    "    def __repr__(self):\n",
    "        return f'{self.center} -> {self.n_data}'"
   ]
  },
  {
   "cell_type": "code",
   "execution_count": 20,
   "metadata": {},
   "outputs": [],
   "source": [
    "cluster_list = []\n",
    "for dat in data:\n",
    "    cluster_list.append(Leaf(dat))"
   ]
  },
  {
   "cell_type": "code",
   "execution_count": 21,
   "metadata": {},
   "outputs": [
    {
     "data": {
      "text/plain": [
       "[[ 8.133 -0.129] -> 1,\n",
       " [7.248 0.225] -> 1,\n",
       " [-5.771 -8.41 ] -> 1,\n",
       " [7.62  0.089] -> 1,\n",
       " [ 6.927 -2.967] -> 1,\n",
       " [ 7.333 -0.217] -> 1,\n",
       " [ 7.424 -1.597] -> 1,\n",
       " [ 7.09  -1.735] -> 1,\n",
       " [ 8.5   -2.218] -> 1,\n",
       " [ 9.15  -2.562] -> 1,\n",
       " [ 5.223 -2.266] -> 1,\n",
       " [ 7.349 -1.416] -> 1,\n",
       " [ -6.93  -11.485] -> 1,\n",
       " [ -7.755 -10.008] -> 1,\n",
       " [-6.56  -9.719] -> 1,\n",
       " [ -8.294 -10.939] -> 1,\n",
       " [ 5.336 -0.963] -> 1,\n",
       " [ 7.213 -0.66 ] -> 1,\n",
       " [ 7.398 -2.953] -> 1,\n",
       " [ -7.085 -11.249] -> 1]"
      ]
     },
     "execution_count": 21,
     "metadata": {},
     "output_type": "execute_result"
    }
   ],
   "source": [
    "cluster_list"
   ]
  },
  {
   "cell_type": "code",
   "execution_count": 22,
   "metadata": {},
   "outputs": [
    {
     "data": {
      "text/plain": [
       "[ 0.739 -4.092] -> 2"
      ]
     },
     "execution_count": 22,
     "metadata": {},
     "output_type": "execute_result"
    }
   ],
   "source": [
    "cl1 = Cluster(cluster_list[1], cluster_list[2])\n",
    "cl1"
   ]
  },
  {
   "cell_type": "code",
   "execution_count": 23,
   "metadata": {},
   "outputs": [
    {
     "data": {
      "text/plain": [
       "[ 3.203 -2.771] -> 3"
      ]
     },
     "execution_count": 23,
     "metadata": {},
     "output_type": "execute_result"
    }
   ],
   "source": [
    "Cluster(cluster_list[0], cl1)"
   ]
  },
  {
   "cell_type": "code",
   "execution_count": 24,
   "metadata": {},
   "outputs": [
    {
     "data": {
      "text/plain": [
       "array([ 3.203, -2.771])"
      ]
     },
     "execution_count": 24,
     "metadata": {},
     "output_type": "execute_result"
    }
   ],
   "source": [
    "data[:3].mean(axis=0)"
   ]
  },
  {
   "cell_type": "markdown",
   "metadata": {},
   "source": [
    "### Making Algorithm"
   ]
  },
  {
   "cell_type": "code",
   "execution_count": 176,
   "metadata": {},
   "outputs": [],
   "source": [
    "class HierarchicalClustering(object):\n",
    "    \n",
    "    def __init__(self, data):\n",
    "        self.data = data\n",
    "        self.cluster_list = []\n",
    "        for dat in data:\n",
    "            self.cluster_list.append(Leaf(dat))\n",
    "        self.near_clusters = None\n",
    "        self.n_hierarchy = 0\n",
    "        \n",
    "    def _distance(self, cluster1:Element, cluster2:Element):\n",
    "        point1 = cluster1.center\n",
    "        point2 = cluster2.center\n",
    "        \n",
    "        diff = point1 - point2\n",
    "        sqrd = np.square(diff)\n",
    "        sumd = np.sum(sqrd)\n",
    "        sqrt = np.sqrt(sumd)\n",
    "        return sqrt\n",
    "    \n",
    "    def find_nearest_center(self):\n",
    "        min_dist = 9999999.\n",
    "        clusteri = None\n",
    "        clen = len(self.cluster_list)\n",
    "        for i in range(clen):\n",
    "#             cluster1 = self.cluster_list[i]\n",
    "            for j in range(i+1, clen):\n",
    "#                 if i==j:\n",
    "#                     print('i=j')\n",
    "#                     continue\n",
    "#                 cluster2= self.cluster_list[j]\n",
    "                dist = self._distance(self.cluster_list[i], self.cluster_list[j])\n",
    "                if dist < min_dist:\n",
    "                    min_dist = dist\n",
    "                    clusteri = (i, j)\n",
    "        self.near_clusters = clusteri\n",
    "        return self.near_clusters                \n",
    "        \n",
    "    def merge_nearest_clusters(self):\n",
    "        cl0 = self.near_clusters[0]\n",
    "        cl1 = self.near_clusters[1]\n",
    "        self.near_clusters = None\n",
    "        \n",
    "        new_cluster = Cluster(self.cluster_list[cl0], self.cluster_list[cl1])\n",
    "        self.cluster_list[cl0] = new_cluster # replacing first with\n",
    "        self.cluster_list.pop(cl1)\n",
    "        self.n_hierarchy += 1\n",
    "    \n",
    "#     def print_cluster(self, cluster=None, connection=None):\n",
    "#         if cluster is None:\n",
    "#             cluster = self.cluster_list[0]\n",
    "#         if connection is None:\n",
    "#             connection = '-'*self.n_hierarchy\n",
    "            \n",
    "#         if isinstance(cluster.node1, Leaf):\n",
    "#             print(cluster.node1.center, connection+'|')\n",
    "#         else:\n",
    "#             self.print_cluster(cluster.node1,connection[:-1])\n",
    "#         if isinstance(cluster.node2, Leaf):\n",
    "#             print(cluster.node2.center, connection+'|')\n",
    "#         else:\n",
    "#             self.print_cluster(cluster.node2, connection[:-1])\n",
    "\n",
    "#     def print_cluster(self, cluster=None, hierarchy=None):\n",
    "#         if cluster is None:\n",
    "#             cluster = self.cluster_list[0]\n",
    "#         if hierarchy is None:\n",
    "#             hierarchy = self.n_hierarchy\n",
    "        \n",
    "#         # base case\n",
    "#         if isinstance(cluster, Leaf):\n",
    "#             print('       '*(cluster.n_data-1), cluster.center, end='')\n",
    "#             return\n",
    "        \n",
    "#         self.print_cluster(cluster.node1, hierarchy-1)\n",
    "#         print('-------')\n",
    "#         print('       '*(cluster.n_data-1), cluster)        \n",
    "#         self.print_cluster(cluster.node2, hierarchy-1)\n",
    "#         print('-------')\n",
    "\n",
    "    def print_cluster(self, cluster, spacing=''):\n",
    "        if isinstance(cluster, Leaf):\n",
    "            return spacing+f'{cluster}'\n",
    "        ret = spacing+f'{cluster}'+'\\n'\n",
    "        spacing = spacing+\"        \"\n",
    "        ret1 = self.print_cluster(cluster.node1, spacing)\n",
    "        ret2 = self.print_cluster(cluster.node2, spacing)\n",
    "        ret = ret+ret1+'\\n'\n",
    "        ret = ret+ret2+'\\n'\n",
    "        return ret"
   ]
  },
  {
   "cell_type": "code",
   "execution_count": 177,
   "metadata": {},
   "outputs": [],
   "source": [
    "hc = HierarchicalClustering(data[:7])"
   ]
  },
  {
   "cell_type": "code",
   "execution_count": 178,
   "metadata": {},
   "outputs": [
    {
     "data": {
      "text/plain": [
       "[[ 8.133 -0.129] -> 1,\n",
       " [7.248 0.225] -> 1,\n",
       " [-5.771 -8.41 ] -> 1,\n",
       " [7.62  0.089] -> 1,\n",
       " [ 6.927 -2.967] -> 1,\n",
       " [ 7.333 -0.217] -> 1,\n",
       " [ 7.424 -1.597] -> 1]"
      ]
     },
     "execution_count": 178,
     "metadata": {},
     "output_type": "execute_result"
    }
   ],
   "source": [
    "hc.cluster_list"
   ]
  },
  {
   "cell_type": "code",
   "execution_count": 179,
   "metadata": {},
   "outputs": [
    {
     "data": {
      "text/plain": [
       "(1, 3)"
      ]
     },
     "execution_count": 179,
     "metadata": {},
     "output_type": "execute_result"
    }
   ],
   "source": [
    "hc.find_nearest_center()"
   ]
  },
  {
   "cell_type": "code",
   "execution_count": 180,
   "metadata": {},
   "outputs": [
    {
     "data": {
      "text/plain": [
       "[[ 8.133 -0.129] -> 1,\n",
       " [7.434 0.157] -> 2,\n",
       " [-5.771 -8.41 ] -> 1,\n",
       " [ 6.927 -2.967] -> 1,\n",
       " [ 7.333 -0.217] -> 1,\n",
       " [ 7.424 -1.597] -> 1]"
      ]
     },
     "execution_count": 180,
     "metadata": {},
     "output_type": "execute_result"
    }
   ],
   "source": [
    "hc.merge_nearest_clusters()\n",
    "hc.cluster_list"
   ]
  },
  {
   "cell_type": "code",
   "execution_count": 181,
   "metadata": {},
   "outputs": [],
   "source": [
    "for i in range(len(hc.cluster_list)-1):\n",
    "    hc.find_nearest_center()\n",
    "    hc.merge_nearest_clusters()\n",
    "#     print(hc.cluster_list, '\\n')"
   ]
  },
  {
   "cell_type": "code",
   "execution_count": 182,
   "metadata": {},
   "outputs": [
    {
     "data": {
      "text/plain": [
       "6"
      ]
     },
     "execution_count": 182,
     "metadata": {},
     "output_type": "execute_result"
    }
   ],
   "source": [
    "hc.n_hierarchy"
   ]
  },
  {
   "cell_type": "code",
   "execution_count": 184,
   "metadata": {},
   "outputs": [
    {
     "name": "stdout",
     "output_type": "stream",
     "text": [
      "[ 5.559 -1.858] -> 7\n",
      "        [ 7.448 -0.766] -> 6\n",
      "                [ 7.584 -0.008] -> 4\n",
      "                        [ 8.133 -0.129] -> 1\n",
      "                        [7.401 0.033] -> 3\n",
      "                                [7.434 0.157] -> 2\n",
      "                                        [7.248 0.225] -> 1\n",
      "                                        [7.62  0.089] -> 1\n",
      "\n",
      "                                [ 7.333 -0.217] -> 1\n",
      "\n",
      "\n",
      "                [ 7.176 -2.282] -> 2\n",
      "                        [ 6.927 -2.967] -> 1\n",
      "                        [ 7.424 -1.597] -> 1\n",
      "\n",
      "\n",
      "        [-5.771 -8.41 ] -> 1\n",
      "\n"
     ]
    }
   ],
   "source": [
    "print(hc.print_cluster(hc.cluster_list[0]))"
   ]
  },
  {
   "cell_type": "code",
   "execution_count": null,
   "metadata": {},
   "outputs": [],
   "source": []
  },
  {
   "cell_type": "code",
   "execution_count": null,
   "metadata": {},
   "outputs": [],
   "source": []
  }
 ],
 "metadata": {
  "kernelspec": {
   "display_name": "Python 3",
   "language": "python",
   "name": "python3"
  },
  "language_info": {
   "codemirror_mode": {
    "name": "ipython",
    "version": 3
   },
   "file_extension": ".py",
   "mimetype": "text/x-python",
   "name": "python",
   "nbconvert_exporter": "python",
   "pygments_lexer": "ipython3",
   "version": "3.6.7"
  }
 },
 "nbformat": 4,
 "nbformat_minor": 2
}
