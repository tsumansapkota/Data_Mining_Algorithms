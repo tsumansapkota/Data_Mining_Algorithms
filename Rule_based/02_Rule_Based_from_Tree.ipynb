{
 "cells": [
  {
   "cell_type": "code",
   "execution_count": 1,
   "metadata": {},
   "outputs": [],
   "source": [
    "import numpy as np\n",
    "import pandas as pd\n",
    "import matplotlib.pyplot as plt\n",
    "%matplotlib inline"
   ]
  },
  {
   "cell_type": "code",
   "execution_count": 3,
   "metadata": {},
   "outputs": [],
   "source": [
    "import DecisionTree_Classifier as dtc"
   ]
  },
  {
   "cell_type": "code",
   "execution_count": 4,
   "metadata": {},
   "outputs": [
    {
     "name": "stdout",
     "output_type": "stream",
     "text": [
      "   sepal_length  sepal_width  petal_length  petal_width   label\n",
      "0           5.1          3.5           1.4          0.2  setosa\n",
      "1           4.9          3.0           1.4          0.2  setosa\n",
      "2           4.7          3.2           1.3          0.2  setosa\n",
      "3           4.6          3.1           1.5          0.2  setosa\n",
      "4           5.0          3.6           1.4          0.2  setosa\n"
     ]
    }
   ],
   "source": [
    "df = pd.read_csv('./iris.csv')\n",
    "\n",
    "cols = list(df.columns)\n",
    "cols[-1] = 'label'\n",
    "df.columns = cols\n",
    "print(df.head())"
   ]
  },
  {
   "cell_type": "code",
   "execution_count": 5,
   "metadata": {},
   "outputs": [],
   "source": [
    "train_df, test_df = dtc.train_test_split(df, test_size=0.2)"
   ]
  },
  {
   "cell_type": "code",
   "execution_count": 6,
   "metadata": {},
   "outputs": [
    {
     "name": "stdout",
     "output_type": "stream",
     "text": [
      "    Is petal_width <= 0.8?\n",
      "    --> True:\n",
      "    Predict setosa\n",
      "    --> False:\n",
      "        Is petal_width <= 1.55?\n",
      "        --> True:\n",
      "                Is petal_length <= 5.25?\n",
      "                --> True:\n",
      "                Predict versicolor\n",
      "                --> False:\n",
      "                Predict virginica\n",
      "        --> False:\n",
      "        Predict virginica\n"
     ]
    }
   ],
   "source": [
    "tree = dtc.decision_tree_algorithm(train_df, max_depth=3)\n",
    "dtc.print_tree(tree)"
   ]
  },
  {
   "cell_type": "code",
   "execution_count": 7,
   "metadata": {},
   "outputs": [
    {
     "data": {
      "text/plain": [
       "'versicolor'"
      ]
     },
     "execution_count": 7,
     "metadata": {},
     "output_type": "execute_result"
    }
   ],
   "source": [
    "dtc.classify_example(test_df.values[0], tree)"
   ]
  },
  {
   "cell_type": "markdown",
   "metadata": {},
   "source": [
    "# Rule from decision tree"
   ]
  },
  {
   "cell_type": "code",
   "execution_count": 144,
   "metadata": {},
   "outputs": [],
   "source": [
    "class RuleQuestion:\n",
    "\n",
    "    def __init__(self, dtrQuestion, true:bool):\n",
    "        self.column = dtrQuestion.column\n",
    "        self.value = dtrQuestion.value\n",
    "        self.continuous = dtrQuestion.continuous\n",
    "        self.header = dtrQuestion.header\n",
    "        self.true = true\n",
    "\n",
    "    def match(self, row):\n",
    "        val = row[self.column]\n",
    "        if self.continuous:\n",
    "            to_return= (val <= self.value)\n",
    "        else:\n",
    "            to_return= (val == self.value)\n",
    "        return to_return if self.true else (not to_return)\n",
    "        \n",
    "    def __repr__(self):\n",
    "        # This is just a helper method to print\n",
    "        # the question in a readable format.\n",
    "        if self.continuous:\n",
    "            condition = \"<=\" if self.true else \">\"\n",
    "        else: \n",
    "            condition = \"==\" if self.true else '!='\n",
    "    \n",
    "        if self.header is None:\n",
    "            header = self.column\n",
    "        else:\n",
    "            header = self.header\n",
    "        return \"%s %s %s\" % (\n",
    "            header, condition, str(self.value))\n",
    "\n",
    "\n",
    "class Rule(object):\n",
    "    \n",
    "    def __init__(self, classes):\n",
    "        self.rules = {}\n",
    "        self.classes = classes\n",
    "        for clas in self.classes:\n",
    "            self.rules[clas] = []\n",
    "            \n",
    "        self.nodes = []\n",
    "    \n",
    "    def depth_first_search(self, tree):\n",
    "        if isinstance(tree, dtc.Leaf):\n",
    "            question_till_now = self.nodes.copy()\n",
    "            self.rules[tree.predictions].append(question_till_now)\n",
    "            return\n",
    "        \n",
    "        self.nodes.append(RuleQuestion(tree.question, True))\n",
    "        self.depth_first_search(tree.true_branch)\n",
    "        self.nodes.pop()\n",
    "        \n",
    "        self.nodes.append(RuleQuestion(tree.question, False))\n",
    "        self.depth_first_search(tree.false_branch)\n",
    "        self.nodes.pop()\n",
    "        \n",
    "        \n",
    "    def print_rules(self):\n",
    "        for i, (clas, rules) in enumerate(self.rules.items()):\n",
    "            n_j = len(rules)-1\n",
    "            for j, rule in enumerate(rules):\n",
    "                n_k = len(rule)-1\n",
    "                for k, qn in enumerate(rule):\n",
    "                    print(f'{qn}')\n",
    "                    if k==n_k: break\n",
    "                    print('AND')\n",
    "                if j==n_j: break\n",
    "                print('---OR---')\n",
    "            print(f'{clas} \\n')\n",
    "    \n",
    "    \n",
    "    def predict(self, example):\n",
    "        classification = None\n",
    "        rule_satisfied = None\n",
    "        for clas, rules in self.rules.items():\n",
    "            for rule in rules:\n",
    "                for qn in rule:\n",
    "                    matches = qn.match(example)\n",
    "#                     print(clas, qn, matches,)\n",
    "                    if matches:\n",
    "                        classification = clas\n",
    "                    else:\n",
    "                        classification = None\n",
    "                        break\n",
    "                if classification is not None:\n",
    "                    rule_satisfied = rules\n",
    "                    break\n",
    "            if classification is not None:\n",
    "                break\n",
    "        return classification, rule_satisfied\n",
    "    "
   ]
  },
  {
   "cell_type": "code",
   "execution_count": 145,
   "metadata": {},
   "outputs": [],
   "source": [
    "all_class = np.unique(df.label.values)\n",
    "rule = Rule(all_class)"
   ]
  },
  {
   "cell_type": "code",
   "execution_count": 146,
   "metadata": {},
   "outputs": [
    {
     "data": {
      "text/plain": [
       "{'setosa': [], 'versicolor': [], 'virginica': []}"
      ]
     },
     "execution_count": 146,
     "metadata": {},
     "output_type": "execute_result"
    }
   ],
   "source": [
    "rule.rules"
   ]
  },
  {
   "cell_type": "code",
   "execution_count": 147,
   "metadata": {},
   "outputs": [
    {
     "data": {
      "text/plain": [
       "{'setosa': [[petal_width <= 0.8]],\n",
       " 'versicolor': [[petal_width > 0.8,\n",
       "   petal_width <= 1.55,\n",
       "   petal_length <= 5.25]],\n",
       " 'virginica': [[petal_width > 0.8, petal_width <= 1.55, petal_length > 5.25],\n",
       "  [petal_width > 0.8, petal_width > 1.55]]}"
      ]
     },
     "execution_count": 147,
     "metadata": {},
     "output_type": "execute_result"
    }
   ],
   "source": [
    "rule.depth_first_search(tree)\n",
    "rule.rules"
   ]
  },
  {
   "cell_type": "code",
   "execution_count": 148,
   "metadata": {},
   "outputs": [
    {
     "name": "stdout",
     "output_type": "stream",
     "text": [
      "petal_width <= 0.8\n",
      "setosa \n",
      "\n",
      "petal_width > 0.8\n",
      "AND\n",
      "petal_width <= 1.55\n",
      "AND\n",
      "petal_length <= 5.25\n",
      "versicolor \n",
      "\n",
      "petal_width > 0.8\n",
      "AND\n",
      "petal_width <= 1.55\n",
      "AND\n",
      "petal_length > 5.25\n",
      "---OR---\n",
      "petal_width > 0.8\n",
      "AND\n",
      "petal_width > 1.55\n",
      "virginica \n",
      "\n"
     ]
    }
   ],
   "source": [
    "rule.print_rules()"
   ]
  },
  {
   "cell_type": "code",
   "execution_count": 152,
   "metadata": {},
   "outputs": [
    {
     "name": "stdout",
     "output_type": "stream",
     "text": [
      "versicolor\n",
      "[[petal_width > 0.8, petal_width <= 1.55, petal_length <= 5.25]]\n",
      "sepal_length           6.9\n",
      "sepal_width            3.1\n",
      "petal_length           4.9\n",
      "petal_width            1.5\n",
      "label           versicolor\n",
      "Name: 52, dtype: object\n"
     ]
    }
   ],
   "source": [
    "example = test_df.iloc[0]\n",
    "classified, rule_followed = rule.predict(example.values)\n",
    "print(classified)\n",
    "print(rule_followed)\n",
    "print(example)"
   ]
  },
  {
   "cell_type": "code",
   "execution_count": 106,
   "metadata": {},
   "outputs": [
    {
     "data": {
      "text/html": [
       "<div>\n",
       "<style scoped>\n",
       "    .dataframe tbody tr th:only-of-type {\n",
       "        vertical-align: middle;\n",
       "    }\n",
       "\n",
       "    .dataframe tbody tr th {\n",
       "        vertical-align: top;\n",
       "    }\n",
       "\n",
       "    .dataframe thead th {\n",
       "        text-align: right;\n",
       "    }\n",
       "</style>\n",
       "<table border=\"1\" class=\"dataframe\">\n",
       "  <thead>\n",
       "    <tr style=\"text-align: right;\">\n",
       "      <th></th>\n",
       "      <th>sepal_length</th>\n",
       "      <th>sepal_width</th>\n",
       "      <th>petal_length</th>\n",
       "      <th>petal_width</th>\n",
       "      <th>label</th>\n",
       "    </tr>\n",
       "  </thead>\n",
       "  <tbody>\n",
       "    <tr>\n",
       "      <th>52</th>\n",
       "      <td>6.9</td>\n",
       "      <td>3.1</td>\n",
       "      <td>4.9</td>\n",
       "      <td>1.5</td>\n",
       "      <td>versicolor</td>\n",
       "    </tr>\n",
       "    <tr>\n",
       "      <th>141</th>\n",
       "      <td>6.9</td>\n",
       "      <td>3.1</td>\n",
       "      <td>5.1</td>\n",
       "      <td>2.3</td>\n",
       "      <td>virginica</td>\n",
       "    </tr>\n",
       "    <tr>\n",
       "      <th>122</th>\n",
       "      <td>7.7</td>\n",
       "      <td>2.8</td>\n",
       "      <td>6.7</td>\n",
       "      <td>2.0</td>\n",
       "      <td>virginica</td>\n",
       "    </tr>\n",
       "    <tr>\n",
       "      <th>113</th>\n",
       "      <td>5.7</td>\n",
       "      <td>2.5</td>\n",
       "      <td>5.0</td>\n",
       "      <td>2.0</td>\n",
       "      <td>virginica</td>\n",
       "    </tr>\n",
       "    <tr>\n",
       "      <th>133</th>\n",
       "      <td>6.3</td>\n",
       "      <td>2.8</td>\n",
       "      <td>5.1</td>\n",
       "      <td>1.5</td>\n",
       "      <td>virginica</td>\n",
       "    </tr>\n",
       "  </tbody>\n",
       "</table>\n",
       "</div>"
      ],
      "text/plain": [
       "     sepal_length  sepal_width  petal_length  petal_width       label\n",
       "52            6.9          3.1           4.9          1.5  versicolor\n",
       "141           6.9          3.1           5.1          2.3   virginica\n",
       "122           7.7          2.8           6.7          2.0   virginica\n",
       "113           5.7          2.5           5.0          2.0   virginica\n",
       "133           6.3          2.8           5.1          1.5   virginica"
      ]
     },
     "execution_count": 106,
     "metadata": {},
     "output_type": "execute_result"
    }
   ],
   "source": [
    "test_df.head()"
   ]
  },
  {
   "cell_type": "code",
   "execution_count": null,
   "metadata": {},
   "outputs": [],
   "source": []
  }
 ],
 "metadata": {
  "kernelspec": {
   "display_name": "Python 3",
   "language": "python",
   "name": "python3"
  },
  "language_info": {
   "codemirror_mode": {
    "name": "ipython",
    "version": 3
   },
   "file_extension": ".py",
   "mimetype": "text/x-python",
   "name": "python",
   "nbconvert_exporter": "python",
   "pygments_lexer": "ipython3",
   "version": "3.6.7"
  }
 },
 "nbformat": 4,
 "nbformat_minor": 2
}
