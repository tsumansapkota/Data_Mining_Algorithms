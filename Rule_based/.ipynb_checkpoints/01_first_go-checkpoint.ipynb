{
 "cells": [
  {
   "cell_type": "code",
   "execution_count": 1,
   "metadata": {},
   "outputs": [],
   "source": [
    "import numpy as np\n",
    "import pandas as pd\n",
    "import matplotlib.pyplot as plt\n",
    "%matplotlib inline"
   ]
  },
  {
   "cell_type": "code",
   "execution_count": 2,
   "metadata": {},
   "outputs": [
    {
     "name": "stdout",
     "output_type": "stream",
     "text": [
      "   sepal_length  sepal_width  petal_length  petal_width   label\n",
      "0           5.1          3.5           1.4          0.2  setosa\n",
      "1           4.9          3.0           1.4          0.2  setosa\n",
      "2           4.7          3.2           1.3          0.2  setosa\n",
      "3           4.6          3.1           1.5          0.2  setosa\n",
      "4           5.0          3.6           1.4          0.2  setosa\n",
      "    Is petal_width <= 0.8?\n",
      "    --> True:\n",
      "    Predict setosa\n",
      "    --> False:\n",
      "        Is petal_width <= 1.65?\n",
      "        --> True:\n",
      "                Is petal_length <= 4.95?\n",
      "                --> True:\n",
      "                Predict versicolor\n",
      "                --> False:\n",
      "                Predict virginica\n",
      "        --> False:\n",
      "        Predict virginica\n",
      "0.9666666666666667\n"
     ]
    }
   ],
   "source": [
    "import DecisionTree_Classifier as dtc"
   ]
  },
  {
   "cell_type": "code",
   "execution_count": 3,
   "metadata": {},
   "outputs": [
    {
     "name": "stdout",
     "output_type": "stream",
     "text": [
      "   sepal_length  sepal_width  petal_length  petal_width   label\n",
      "0           5.1          3.5           1.4          0.2  setosa\n",
      "1           4.9          3.0           1.4          0.2  setosa\n",
      "2           4.7          3.2           1.3          0.2  setosa\n",
      "3           4.6          3.1           1.5          0.2  setosa\n",
      "4           5.0          3.6           1.4          0.2  setosa\n"
     ]
    }
   ],
   "source": [
    "df = pd.read_csv('./iris.csv')\n",
    "\n",
    "cols = list(df.columns)\n",
    "cols[-1] = 'label'\n",
    "df.columns = cols\n",
    "print(df.head())"
   ]
  },
  {
   "cell_type": "code",
   "execution_count": 6,
   "metadata": {},
   "outputs": [],
   "source": [
    "train_df, test_df = dtc.train_test_split(df, test_size=0.2)"
   ]
  },
  {
   "cell_type": "code",
   "execution_count": 8,
   "metadata": {},
   "outputs": [
    {
     "name": "stdout",
     "output_type": "stream",
     "text": [
      "    Is petal_width <= 0.8?\n",
      "    --> True:\n",
      "    Predict setosa\n",
      "    --> False:\n",
      "        Is petal_width <= 1.55?\n",
      "        --> True:\n",
      "                Is petal_length <= 5.25?\n",
      "                --> True:\n",
      "                Predict versicolor\n",
      "                --> False:\n",
      "                Predict virginica\n",
      "        --> False:\n",
      "        Predict virginica\n"
     ]
    }
   ],
   "source": [
    "tree = dtc.decision_tree_algorithm(train_df, max_depth=3)\n",
    "dtc.print_tree(tree)"
   ]
  },
  {
   "cell_type": "code",
   "execution_count": 15,
   "metadata": {},
   "outputs": [
    {
     "data": {
      "text/plain": [
       "array([6.9, 3.1, 4.9, 1.5, 'versicolor'], dtype=object)"
      ]
     },
     "execution_count": 15,
     "metadata": {},
     "output_type": "execute_result"
    }
   ],
   "source": [
    "test_df.values[0]"
   ]
  },
  {
   "cell_type": "code",
   "execution_count": 16,
   "metadata": {},
   "outputs": [
    {
     "data": {
      "text/plain": [
       "'versicolor'"
      ]
     },
     "execution_count": 16,
     "metadata": {},
     "output_type": "execute_result"
    }
   ],
   "source": [
    "dtc.classify_example(test_df.values[0], tree)"
   ]
  },
  {
   "cell_type": "code",
   "execution_count": null,
   "metadata": {},
   "outputs": [],
   "source": []
  },
  {
   "cell_type": "code",
   "execution_count": 21,
   "metadata": {},
   "outputs": [
    {
     "data": {
      "text/plain": [
       "(Is petal_width <= 0.8?, True, 3)"
      ]
     },
     "execution_count": 21,
     "metadata": {},
     "output_type": "execute_result"
    }
   ],
   "source": [
    "tree.question, tree.question.continuous, tree.question.column"
   ]
  },
  {
   "cell_type": "code",
   "execution_count": 29,
   "metadata": {},
   "outputs": [
    {
     "data": {
      "text/plain": [
       "array(['setosa', 'versicolor', 'virginica'], dtype=object)"
      ]
     },
     "execution_count": 29,
     "metadata": {},
     "output_type": "execute_result"
    }
   ],
   "source": [
    "all_class = np.unique(df.label)\n",
    "all_class"
   ]
  },
  {
   "cell_type": "code",
   "execution_count": null,
   "metadata": {},
   "outputs": [],
   "source": [
    "class Rule(object):\n",
    "    \n",
    "    def __init__(self, classes):\n",
    "        self.rule = {}\n",
    "        self.classes = classes\n",
    "        for clas in self.classes:\n",
    "            self.rule[clas] = []\n",
    "            \n",
    "        self.nodes = []\n",
    "    \n",
    "    def depth_first_search(self, tree):\n",
    "        if isinstance(tree, dtc.Leaf):\n",
    "            return tree.predictions\n",
    "        \n",
    "        self.nodes.append(tree.question)\n",
    "        self.depth_first_search(tree.true_branch)\n",
    "        self.depth_first_search(tree.false_branch)\n",
    "    \n",
    "    \n",
    "    "
   ]
  }
 ],
 "metadata": {
  "kernelspec": {
   "display_name": "Python 3",
   "language": "python",
   "name": "python3"
  },
  "language_info": {
   "codemirror_mode": {
    "name": "ipython",
    "version": 3
   },
   "file_extension": ".py",
   "mimetype": "text/x-python",
   "name": "python",
   "nbconvert_exporter": "python",
   "pygments_lexer": "ipython3",
   "version": "3.6.7"
  }
 },
 "nbformat": 4,
 "nbformat_minor": 2
}
