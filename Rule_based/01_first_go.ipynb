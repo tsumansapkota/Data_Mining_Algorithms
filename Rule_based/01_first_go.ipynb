{
 "cells": [
  {
   "cell_type": "code",
   "execution_count": 1,
   "metadata": {},
   "outputs": [],
   "source": [
    "import numpy as np\n",
    "import pandas as pd\n",
    "import matplotlib.pyplot as plt\n",
    "%matplotlib inline"
   ]
  },
  {
   "cell_type": "code",
   "execution_count": 2,
   "metadata": {},
   "outputs": [],
   "source": [
    "import DecisionTree_Classifier as dtc"
   ]
  },
  {
   "cell_type": "code",
   "execution_count": 3,
   "metadata": {},
   "outputs": [
    {
     "name": "stdout",
     "output_type": "stream",
     "text": [
      "   sepal_length  sepal_width  petal_length  petal_width   label\n",
      "0           5.1          3.5           1.4          0.2  setosa\n",
      "1           4.9          3.0           1.4          0.2  setosa\n",
      "2           4.7          3.2           1.3          0.2  setosa\n",
      "3           4.6          3.1           1.5          0.2  setosa\n",
      "4           5.0          3.6           1.4          0.2  setosa\n"
     ]
    }
   ],
   "source": [
    "df = pd.read_csv('./iris.csv')\n",
    "\n",
    "cols = list(df.columns)\n",
    "cols[-1] = 'label'\n",
    "df.columns = cols\n",
    "print(df.head())"
   ]
  },
  {
   "cell_type": "code",
   "execution_count": 4,
   "metadata": {},
   "outputs": [],
   "source": [
    "train_df, test_df = dtc.train_test_split(df, test_size=0.2)"
   ]
  },
  {
   "cell_type": "code",
   "execution_count": 5,
   "metadata": {},
   "outputs": [
    {
     "name": "stdout",
     "output_type": "stream",
     "text": [
      "    Is petal_width <= 0.8?\n",
      "    --> True:\n",
      "    Predict setosa\n",
      "    --> False:\n",
      "        Is petal_width <= 1.65?\n",
      "        --> True:\n",
      "                Is petal_length <= 4.95?\n",
      "                --> True:\n",
      "                Predict versicolor\n",
      "                --> False:\n",
      "                Predict virginica\n",
      "        --> False:\n",
      "        Predict virginica\n"
     ]
    }
   ],
   "source": [
    "tree = dtc.decision_tree_algorithm(train_df, max_depth=3)\n",
    "dtc.print_tree(tree)"
   ]
  },
  {
   "cell_type": "code",
   "execution_count": 6,
   "metadata": {},
   "outputs": [
    {
     "data": {
      "text/plain": [
       "array([5.1, 2.5, 3.0, 1.1, 'versicolor'], dtype=object)"
      ]
     },
     "execution_count": 6,
     "metadata": {},
     "output_type": "execute_result"
    }
   ],
   "source": [
    "test_df.values[0]"
   ]
  },
  {
   "cell_type": "code",
   "execution_count": 7,
   "metadata": {},
   "outputs": [
    {
     "data": {
      "text/plain": [
       "'versicolor'"
      ]
     },
     "execution_count": 7,
     "metadata": {},
     "output_type": "execute_result"
    }
   ],
   "source": [
    "dtc.classify_example(test_df.values[0], tree)"
   ]
  },
  {
   "cell_type": "code",
   "execution_count": null,
   "metadata": {},
   "outputs": [],
   "source": []
  },
  {
   "cell_type": "code",
   "execution_count": 8,
   "metadata": {},
   "outputs": [
    {
     "data": {
      "text/plain": [
       "(Is petal_width <= 0.8?, True, 3)"
      ]
     },
     "execution_count": 8,
     "metadata": {},
     "output_type": "execute_result"
    }
   ],
   "source": [
    "tree.question, tree.question.continuous, tree.question.column"
   ]
  },
  {
   "cell_type": "code",
   "execution_count": 13,
   "metadata": {},
   "outputs": [
    {
     "data": {
      "text/plain": [
       "array(['setosa', 'versicolor', 'virginica'], dtype=object)"
      ]
     },
     "execution_count": 13,
     "metadata": {},
     "output_type": "execute_result"
    }
   ],
   "source": [
    "all_class = np.unique(df.label)\n",
    "all_class"
   ]
  },
  {
   "cell_type": "code",
   "execution_count": 22,
   "metadata": {},
   "outputs": [],
   "source": [
    "class RuleQuestion:\n",
    "\n",
    "    def __init__(self, dtrQuestion, true:bool):\n",
    "        self.column = dtrQuestion.column\n",
    "        self.value = dtrQuestion.value\n",
    "        self.continuous = dtrQuestion.continuous\n",
    "        self.header = dtrQuestion.header\n",
    "        self.true = true\n",
    "\n",
    "    def match(self, row):\n",
    "        val = row[self.column]\n",
    "        if self.continuous:\n",
    "            to_return= (val <= self.value)\n",
    "        else:\n",
    "            to_return= (val == self.value)\n",
    "        return to_return if self.true else not to_return\n",
    "        \n",
    "    def __repr__(self):\n",
    "        # This is just a helper method to print\n",
    "        # the question in a readable format.\n",
    "        if self.continuous:\n",
    "            condition = \"<=\" if self.true else \">\"\n",
    "        else: \n",
    "            condition = \"==\" if self.true else '!='\n",
    "    \n",
    "        if self.header is None:\n",
    "            header = self.column\n",
    "        else:\n",
    "            header = self.header\n",
    "        return \"%s %s %s\" % (\n",
    "            header, condition, str(self.value))\n",
    "\n",
    "\n",
    "class Rule(object):\n",
    "    \n",
    "    def __init__(self, classes):\n",
    "        self.rules = {}\n",
    "        self.classes = classes\n",
    "        for clas in self.classes:\n",
    "            self.rules[clas] = []\n",
    "            \n",
    "        self.nodes = []\n",
    "    \n",
    "    def depth_first_search(self, tree):\n",
    "        if isinstance(tree, dtc.Leaf):\n",
    "            question_till_now = self.nodes.copy()\n",
    "            self.rules[tree.predictions].append(question_till_now)\n",
    "            return\n",
    "        \n",
    "        self.nodes.append(RuleQuestion(tree.question, True))\n",
    "        self.depth_first_search(tree.true_branch)\n",
    "        self.nodes.pop()\n",
    "        \n",
    "        self.nodes.append(RuleQuestion(tree.question, False))\n",
    "        self.depth_first_search(tree.false_branch)\n",
    "        self.nodes.pop()\n",
    "        \n",
    "        \n",
    "    def print_rules(self):\n",
    "#         n_i = len(rules)\n",
    "        for i, (clas, rules) in enumerate(self.rules.items()):\n",
    "            n_j = len(rules)-1\n",
    "            for j, rule in enumerate(rules):\n",
    "                n_k = len(rule)-1\n",
    "                for k, qn in enumerate(rule):\n",
    "                    print(f'{qn}')\n",
    "                    if k==n_k: break\n",
    "                    print('AND')\n",
    "                if j==n_j: break\n",
    "                print('---OR---')\n",
    "#             if j==n_i: break    \n",
    "            print(f'{clas} \\n')"
   ]
  },
  {
   "cell_type": "code",
   "execution_count": 23,
   "metadata": {},
   "outputs": [],
   "source": [
    "rule = Rule(all_class)"
   ]
  },
  {
   "cell_type": "code",
   "execution_count": 24,
   "metadata": {},
   "outputs": [
    {
     "data": {
      "text/plain": [
       "{'setosa': [], 'versicolor': [], 'virginica': []}"
      ]
     },
     "execution_count": 24,
     "metadata": {},
     "output_type": "execute_result"
    }
   ],
   "source": [
    "rule.rules"
   ]
  },
  {
   "cell_type": "code",
   "execution_count": 25,
   "metadata": {},
   "outputs": [],
   "source": [
    "rule.depth_first_search(tree)"
   ]
  },
  {
   "cell_type": "code",
   "execution_count": 26,
   "metadata": {},
   "outputs": [
    {
     "data": {
      "text/plain": [
       "{'setosa': [[petal_width <= 0.8]],\n",
       " 'versicolor': [[petal_width > 0.8,\n",
       "   petal_width <= 1.65,\n",
       "   petal_length <= 4.95]],\n",
       " 'virginica': [[petal_width > 0.8, petal_width <= 1.65, petal_length > 4.95],\n",
       "  [petal_width > 0.8, petal_width > 1.65]]}"
      ]
     },
     "execution_count": 26,
     "metadata": {},
     "output_type": "execute_result"
    }
   ],
   "source": [
    "rule.rules"
   ]
  },
  {
   "cell_type": "code",
   "execution_count": 27,
   "metadata": {},
   "outputs": [
    {
     "name": "stdout",
     "output_type": "stream",
     "text": [
      "    Is petal_width <= 0.8?\n",
      "    --> True:\n",
      "    Predict setosa\n",
      "    --> False:\n",
      "        Is petal_width <= 1.65?\n",
      "        --> True:\n",
      "                Is petal_length <= 4.95?\n",
      "                --> True:\n",
      "                Predict versicolor\n",
      "                --> False:\n",
      "                Predict virginica\n",
      "        --> False:\n",
      "        Predict virginica\n"
     ]
    }
   ],
   "source": [
    "dtc.print_tree(tree)"
   ]
  },
  {
   "cell_type": "code",
   "execution_count": 28,
   "metadata": {},
   "outputs": [
    {
     "name": "stdout",
     "output_type": "stream",
     "text": [
      "petal_width <= 0.8\n",
      "setosa \n",
      "\n",
      "petal_width > 0.8\n",
      "AND\n",
      "petal_width <= 1.65\n",
      "AND\n",
      "petal_length <= 4.95\n",
      "versicolor \n",
      "\n",
      "petal_width > 0.8\n",
      "AND\n",
      "petal_width <= 1.65\n",
      "AND\n",
      "petal_length > 4.95\n",
      "---OR---\n",
      "petal_width > 0.8\n",
      "AND\n",
      "petal_width > 1.65\n",
      "virginica \n",
      "\n"
     ]
    }
   ],
   "source": [
    "rule.print_rules()"
   ]
  },
  {
   "cell_type": "code",
   "execution_count": null,
   "metadata": {},
   "outputs": [],
   "source": []
  },
  {
   "cell_type": "code",
   "execution_count": null,
   "metadata": {},
   "outputs": [],
   "source": []
  }
 ],
 "metadata": {
  "kernelspec": {
   "display_name": "Python 3",
   "language": "python",
   "name": "python3"
  },
  "language_info": {
   "codemirror_mode": {
    "name": "ipython",
    "version": 3
   },
   "file_extension": ".py",
   "mimetype": "text/x-python",
   "name": "python",
   "nbconvert_exporter": "python",
   "pygments_lexer": "ipython3",
   "version": "3.6.7"
  }
 },
 "nbformat": 4,
 "nbformat_minor": 2
}
